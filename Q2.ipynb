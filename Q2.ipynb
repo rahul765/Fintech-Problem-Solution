{
 "cells": [
  {
   "cell_type": "code",
   "execution_count": 1,
   "metadata": {},
   "outputs": [],
   "source": [
    "import pandas as pd\n",
    "import numpy as np\n",
    "import matplotlib.pyplot as plt\n",
    "import seaborn as sqs"
   ]
  },
  {
   "cell_type": "code",
   "execution_count": 2,
   "metadata": {},
   "outputs": [],
   "source": [
    "dataset = pd.read_excel(\"Q2_modeling_data.xlsx\")"
   ]
  },
  {
   "cell_type": "code",
   "execution_count": 3,
   "metadata": {},
   "outputs": [
    {
     "data": {
      "text/plain": [
       "(579, 14)"
      ]
     },
     "execution_count": 3,
     "metadata": {},
     "output_type": "execute_result"
    }
   ],
   "source": [
    "dataset.shape"
   ]
  },
  {
   "cell_type": "code",
   "execution_count": 4,
   "metadata": {
    "scrolled": true
   },
   "outputs": [
    {
     "data": {
      "text/html": [
       "<div>\n",
       "<style scoped>\n",
       "    .dataframe tbody tr th:only-of-type {\n",
       "        vertical-align: middle;\n",
       "    }\n",
       "\n",
       "    .dataframe tbody tr th {\n",
       "        vertical-align: top;\n",
       "    }\n",
       "\n",
       "    .dataframe thead th {\n",
       "        text-align: right;\n",
       "    }\n",
       "</style>\n",
       "<table border=\"1\" class=\"dataframe\">\n",
       "  <thead>\n",
       "    <tr style=\"text-align: right;\">\n",
       "      <th></th>\n",
       "      <th>ref_var</th>\n",
       "      <th>bad_var</th>\n",
       "      <th>Net_debits_last_1_month</th>\n",
       "      <th>Net_credits_last_1_month</th>\n",
       "      <th>Balance_of_outstanding_loans_last_1_month</th>\n",
       "      <th>loan_enquiries_last_1_month</th>\n",
       "      <th>overdue_on_outstanding_loans_last_1_month</th>\n",
       "      <th>age</th>\n",
       "      <th>monthly_salary</th>\n",
       "      <th>number_of_bank_accounts</th>\n",
       "      <th>married_indicator</th>\n",
       "      <th>day_of_application</th>\n",
       "      <th>levelofeducation_v1</th>\n",
       "      <th>state</th>\n",
       "    </tr>\n",
       "  </thead>\n",
       "  <tbody>\n",
       "    <tr>\n",
       "      <td>0</td>\n",
       "      <td>1234</td>\n",
       "      <td>1</td>\n",
       "      <td>589.26</td>\n",
       "      <td>2998.00</td>\n",
       "      <td>0.0</td>\n",
       "      <td>0</td>\n",
       "      <td>0.000000</td>\n",
       "      <td>24</td>\n",
       "      <td>25452.86</td>\n",
       "      <td>1.0</td>\n",
       "      <td>0</td>\n",
       "      <td>Friday</td>\n",
       "      <td>Post Graduate</td>\n",
       "      <td>Delhi</td>\n",
       "    </tr>\n",
       "    <tr>\n",
       "      <td>1</td>\n",
       "      <td>1235</td>\n",
       "      <td>0</td>\n",
       "      <td>9700.00</td>\n",
       "      <td>NaN</td>\n",
       "      <td>89201.0</td>\n",
       "      <td>4</td>\n",
       "      <td>0.000000</td>\n",
       "      <td>43</td>\n",
       "      <td>11000.00</td>\n",
       "      <td>1.0</td>\n",
       "      <td>0</td>\n",
       "      <td>Friday</td>\n",
       "      <td>12th Pass</td>\n",
       "      <td>Madhya Pradesh</td>\n",
       "    </tr>\n",
       "    <tr>\n",
       "      <td>2</td>\n",
       "      <td>1236</td>\n",
       "      <td>0</td>\n",
       "      <td>11951.00</td>\n",
       "      <td>8791.75</td>\n",
       "      <td>NaN</td>\n",
       "      <td>18</td>\n",
       "      <td>NaN</td>\n",
       "      <td>20</td>\n",
       "      <td>4351.00</td>\n",
       "      <td>2.0</td>\n",
       "      <td>0</td>\n",
       "      <td>Monday</td>\n",
       "      <td>12th Pass</td>\n",
       "      <td>Telangana</td>\n",
       "    </tr>\n",
       "    <tr>\n",
       "      <td>3</td>\n",
       "      <td>1237</td>\n",
       "      <td>0</td>\n",
       "      <td>28228.00</td>\n",
       "      <td>17154.15</td>\n",
       "      <td>19346.0</td>\n",
       "      <td>15</td>\n",
       "      <td>8721.644826</td>\n",
       "      <td>28</td>\n",
       "      <td>25000.00</td>\n",
       "      <td>1.0</td>\n",
       "      <td>0</td>\n",
       "      <td>Wednesday</td>\n",
       "      <td>Graduate</td>\n",
       "      <td>Telangana</td>\n",
       "    </tr>\n",
       "    <tr>\n",
       "      <td>4</td>\n",
       "      <td>1238</td>\n",
       "      <td>0</td>\n",
       "      <td>8770.00</td>\n",
       "      <td>775.00</td>\n",
       "      <td>0.0</td>\n",
       "      <td>0</td>\n",
       "      <td>0.000000</td>\n",
       "      <td>22</td>\n",
       "      <td>12647.00</td>\n",
       "      <td>1.0</td>\n",
       "      <td>0</td>\n",
       "      <td>Monday</td>\n",
       "      <td>Graduate</td>\n",
       "      <td>Telangana</td>\n",
       "    </tr>\n",
       "  </tbody>\n",
       "</table>\n",
       "</div>"
      ],
      "text/plain": [
       "   ref_var  bad_var  Net_debits_last_1_month  Net_credits_last_1_month  \\\n",
       "0     1234        1                   589.26                   2998.00   \n",
       "1     1235        0                  9700.00                       NaN   \n",
       "2     1236        0                 11951.00                   8791.75   \n",
       "3     1237        0                 28228.00                  17154.15   \n",
       "4     1238        0                  8770.00                    775.00   \n",
       "\n",
       "   Balance_of_outstanding_loans_last_1_month  loan_enquiries_last_1_month  \\\n",
       "0                                        0.0                            0   \n",
       "1                                    89201.0                            4   \n",
       "2                                        NaN                           18   \n",
       "3                                    19346.0                           15   \n",
       "4                                        0.0                            0   \n",
       "\n",
       "   overdue_on_outstanding_loans_last_1_month  age  monthly_salary  \\\n",
       "0                                   0.000000   24        25452.86   \n",
       "1                                   0.000000   43        11000.00   \n",
       "2                                        NaN   20         4351.00   \n",
       "3                                8721.644826   28        25000.00   \n",
       "4                                   0.000000   22        12647.00   \n",
       "\n",
       "   number_of_bank_accounts  married_indicator day_of_application  \\\n",
       "0                      1.0                  0             Friday   \n",
       "1                      1.0                  0             Friday   \n",
       "2                      2.0                  0             Monday   \n",
       "3                      1.0                  0          Wednesday   \n",
       "4                      1.0                  0             Monday   \n",
       "\n",
       "  levelofeducation_v1           state  \n",
       "0       Post Graduate           Delhi  \n",
       "1           12th Pass  Madhya Pradesh  \n",
       "2           12th Pass       Telangana  \n",
       "3            Graduate       Telangana  \n",
       "4            Graduate       Telangana  "
      ]
     },
     "execution_count": 4,
     "metadata": {},
     "output_type": "execute_result"
    }
   ],
   "source": [
    "dataset.head()"
   ]
  },
  {
   "cell_type": "code",
   "execution_count": 5,
   "metadata": {},
   "outputs": [],
   "source": [
    "dataset.drop(['ref_var'], inplace=True, axis =1)"
   ]
  },
  {
   "cell_type": "code",
   "execution_count": 6,
   "metadata": {},
   "outputs": [
    {
     "data": {
      "text/html": [
       "<div>\n",
       "<style scoped>\n",
       "    .dataframe tbody tr th:only-of-type {\n",
       "        vertical-align: middle;\n",
       "    }\n",
       "\n",
       "    .dataframe tbody tr th {\n",
       "        vertical-align: top;\n",
       "    }\n",
       "\n",
       "    .dataframe thead th {\n",
       "        text-align: right;\n",
       "    }\n",
       "</style>\n",
       "<table border=\"1\" class=\"dataframe\">\n",
       "  <thead>\n",
       "    <tr style=\"text-align: right;\">\n",
       "      <th></th>\n",
       "      <th>bad_var</th>\n",
       "      <th>Net_debits_last_1_month</th>\n",
       "      <th>Net_credits_last_1_month</th>\n",
       "      <th>Balance_of_outstanding_loans_last_1_month</th>\n",
       "      <th>loan_enquiries_last_1_month</th>\n",
       "      <th>overdue_on_outstanding_loans_last_1_month</th>\n",
       "      <th>age</th>\n",
       "      <th>monthly_salary</th>\n",
       "      <th>number_of_bank_accounts</th>\n",
       "      <th>married_indicator</th>\n",
       "      <th>day_of_application</th>\n",
       "      <th>levelofeducation_v1</th>\n",
       "      <th>state</th>\n",
       "    </tr>\n",
       "  </thead>\n",
       "  <tbody>\n",
       "    <tr>\n",
       "      <td>0</td>\n",
       "      <td>1</td>\n",
       "      <td>589.26</td>\n",
       "      <td>2998.00</td>\n",
       "      <td>0.0</td>\n",
       "      <td>0</td>\n",
       "      <td>0.000000</td>\n",
       "      <td>24</td>\n",
       "      <td>25452.86</td>\n",
       "      <td>1.0</td>\n",
       "      <td>0</td>\n",
       "      <td>Friday</td>\n",
       "      <td>Post Graduate</td>\n",
       "      <td>Delhi</td>\n",
       "    </tr>\n",
       "    <tr>\n",
       "      <td>1</td>\n",
       "      <td>0</td>\n",
       "      <td>9700.00</td>\n",
       "      <td>NaN</td>\n",
       "      <td>89201.0</td>\n",
       "      <td>4</td>\n",
       "      <td>0.000000</td>\n",
       "      <td>43</td>\n",
       "      <td>11000.00</td>\n",
       "      <td>1.0</td>\n",
       "      <td>0</td>\n",
       "      <td>Friday</td>\n",
       "      <td>12th Pass</td>\n",
       "      <td>Madhya Pradesh</td>\n",
       "    </tr>\n",
       "    <tr>\n",
       "      <td>2</td>\n",
       "      <td>0</td>\n",
       "      <td>11951.00</td>\n",
       "      <td>8791.75</td>\n",
       "      <td>NaN</td>\n",
       "      <td>18</td>\n",
       "      <td>NaN</td>\n",
       "      <td>20</td>\n",
       "      <td>4351.00</td>\n",
       "      <td>2.0</td>\n",
       "      <td>0</td>\n",
       "      <td>Monday</td>\n",
       "      <td>12th Pass</td>\n",
       "      <td>Telangana</td>\n",
       "    </tr>\n",
       "    <tr>\n",
       "      <td>3</td>\n",
       "      <td>0</td>\n",
       "      <td>28228.00</td>\n",
       "      <td>17154.15</td>\n",
       "      <td>19346.0</td>\n",
       "      <td>15</td>\n",
       "      <td>8721.644826</td>\n",
       "      <td>28</td>\n",
       "      <td>25000.00</td>\n",
       "      <td>1.0</td>\n",
       "      <td>0</td>\n",
       "      <td>Wednesday</td>\n",
       "      <td>Graduate</td>\n",
       "      <td>Telangana</td>\n",
       "    </tr>\n",
       "    <tr>\n",
       "      <td>4</td>\n",
       "      <td>0</td>\n",
       "      <td>8770.00</td>\n",
       "      <td>775.00</td>\n",
       "      <td>0.0</td>\n",
       "      <td>0</td>\n",
       "      <td>0.000000</td>\n",
       "      <td>22</td>\n",
       "      <td>12647.00</td>\n",
       "      <td>1.0</td>\n",
       "      <td>0</td>\n",
       "      <td>Monday</td>\n",
       "      <td>Graduate</td>\n",
       "      <td>Telangana</td>\n",
       "    </tr>\n",
       "  </tbody>\n",
       "</table>\n",
       "</div>"
      ],
      "text/plain": [
       "   bad_var  Net_debits_last_1_month  Net_credits_last_1_month  \\\n",
       "0        1                   589.26                   2998.00   \n",
       "1        0                  9700.00                       NaN   \n",
       "2        0                 11951.00                   8791.75   \n",
       "3        0                 28228.00                  17154.15   \n",
       "4        0                  8770.00                    775.00   \n",
       "\n",
       "   Balance_of_outstanding_loans_last_1_month  loan_enquiries_last_1_month  \\\n",
       "0                                        0.0                            0   \n",
       "1                                    89201.0                            4   \n",
       "2                                        NaN                           18   \n",
       "3                                    19346.0                           15   \n",
       "4                                        0.0                            0   \n",
       "\n",
       "   overdue_on_outstanding_loans_last_1_month  age  monthly_salary  \\\n",
       "0                                   0.000000   24        25452.86   \n",
       "1                                   0.000000   43        11000.00   \n",
       "2                                        NaN   20         4351.00   \n",
       "3                                8721.644826   28        25000.00   \n",
       "4                                   0.000000   22        12647.00   \n",
       "\n",
       "   number_of_bank_accounts  married_indicator day_of_application  \\\n",
       "0                      1.0                  0             Friday   \n",
       "1                      1.0                  0             Friday   \n",
       "2                      2.0                  0             Monday   \n",
       "3                      1.0                  0          Wednesday   \n",
       "4                      1.0                  0             Monday   \n",
       "\n",
       "  levelofeducation_v1           state  \n",
       "0       Post Graduate           Delhi  \n",
       "1           12th Pass  Madhya Pradesh  \n",
       "2           12th Pass       Telangana  \n",
       "3            Graduate       Telangana  \n",
       "4            Graduate       Telangana  "
      ]
     },
     "execution_count": 6,
     "metadata": {},
     "output_type": "execute_result"
    }
   ],
   "source": [
    "dataset.head()"
   ]
  },
  {
   "cell_type": "code",
   "execution_count": 7,
   "metadata": {},
   "outputs": [
    {
     "data": {
      "text/html": [
       "<div>\n",
       "<style scoped>\n",
       "    .dataframe tbody tr th:only-of-type {\n",
       "        vertical-align: middle;\n",
       "    }\n",
       "\n",
       "    .dataframe tbody tr th {\n",
       "        vertical-align: top;\n",
       "    }\n",
       "\n",
       "    .dataframe thead th {\n",
       "        text-align: right;\n",
       "    }\n",
       "</style>\n",
       "<table border=\"1\" class=\"dataframe\">\n",
       "  <thead>\n",
       "    <tr style=\"text-align: right;\">\n",
       "      <th></th>\n",
       "      <th>bad_var</th>\n",
       "      <th>Net_debits_last_1_month</th>\n",
       "      <th>Net_credits_last_1_month</th>\n",
       "      <th>Balance_of_outstanding_loans_last_1_month</th>\n",
       "      <th>loan_enquiries_last_1_month</th>\n",
       "      <th>overdue_on_outstanding_loans_last_1_month</th>\n",
       "      <th>age</th>\n",
       "      <th>monthly_salary</th>\n",
       "      <th>number_of_bank_accounts</th>\n",
       "      <th>married_indicator</th>\n",
       "      <th>day_of_application</th>\n",
       "      <th>levelofeducation_v1</th>\n",
       "      <th>state</th>\n",
       "    </tr>\n",
       "  </thead>\n",
       "  <tbody>\n",
       "    <tr>\n",
       "      <td>0</td>\n",
       "      <td>1</td>\n",
       "      <td>589.26</td>\n",
       "      <td>2998.00</td>\n",
       "      <td>0.00</td>\n",
       "      <td>0</td>\n",
       "      <td>0.000000</td>\n",
       "      <td>24</td>\n",
       "      <td>25452.86</td>\n",
       "      <td>1.0</td>\n",
       "      <td>0</td>\n",
       "      <td>Friday</td>\n",
       "      <td>Post Graduate</td>\n",
       "      <td>Delhi</td>\n",
       "    </tr>\n",
       "    <tr>\n",
       "      <td>1</td>\n",
       "      <td>0</td>\n",
       "      <td>9700.00</td>\n",
       "      <td>NaN</td>\n",
       "      <td>89201.00</td>\n",
       "      <td>4</td>\n",
       "      <td>0.000000</td>\n",
       "      <td>43</td>\n",
       "      <td>11000.00</td>\n",
       "      <td>1.0</td>\n",
       "      <td>0</td>\n",
       "      <td>Friday</td>\n",
       "      <td>12th Pass</td>\n",
       "      <td>Madhya Pradesh</td>\n",
       "    </tr>\n",
       "    <tr>\n",
       "      <td>2</td>\n",
       "      <td>0</td>\n",
       "      <td>11951.00</td>\n",
       "      <td>8791.75</td>\n",
       "      <td>NaN</td>\n",
       "      <td>18</td>\n",
       "      <td>NaN</td>\n",
       "      <td>20</td>\n",
       "      <td>4351.00</td>\n",
       "      <td>2.0</td>\n",
       "      <td>0</td>\n",
       "      <td>Monday</td>\n",
       "      <td>12th Pass</td>\n",
       "      <td>Telangana</td>\n",
       "    </tr>\n",
       "    <tr>\n",
       "      <td>3</td>\n",
       "      <td>0</td>\n",
       "      <td>28228.00</td>\n",
       "      <td>17154.15</td>\n",
       "      <td>19346.00</td>\n",
       "      <td>15</td>\n",
       "      <td>8721.644826</td>\n",
       "      <td>28</td>\n",
       "      <td>25000.00</td>\n",
       "      <td>1.0</td>\n",
       "      <td>0</td>\n",
       "      <td>Wednesday</td>\n",
       "      <td>Graduate</td>\n",
       "      <td>Telangana</td>\n",
       "    </tr>\n",
       "    <tr>\n",
       "      <td>4</td>\n",
       "      <td>0</td>\n",
       "      <td>8770.00</td>\n",
       "      <td>775.00</td>\n",
       "      <td>0.00</td>\n",
       "      <td>0</td>\n",
       "      <td>0.000000</td>\n",
       "      <td>22</td>\n",
       "      <td>12647.00</td>\n",
       "      <td>1.0</td>\n",
       "      <td>0</td>\n",
       "      <td>Monday</td>\n",
       "      <td>Graduate</td>\n",
       "      <td>Telangana</td>\n",
       "    </tr>\n",
       "    <tr>\n",
       "      <td>...</td>\n",
       "      <td>...</td>\n",
       "      <td>...</td>\n",
       "      <td>...</td>\n",
       "      <td>...</td>\n",
       "      <td>...</td>\n",
       "      <td>...</td>\n",
       "      <td>...</td>\n",
       "      <td>...</td>\n",
       "      <td>...</td>\n",
       "      <td>...</td>\n",
       "      <td>...</td>\n",
       "      <td>...</td>\n",
       "      <td>...</td>\n",
       "    </tr>\n",
       "    <tr>\n",
       "      <td>574</td>\n",
       "      <td>0</td>\n",
       "      <td>0.00</td>\n",
       "      <td>0.00</td>\n",
       "      <td>4700.00</td>\n",
       "      <td>3</td>\n",
       "      <td>1220.063263</td>\n",
       "      <td>39</td>\n",
       "      <td>19617.00</td>\n",
       "      <td>2.0</td>\n",
       "      <td>0</td>\n",
       "      <td>Thursday</td>\n",
       "      <td>less than 10th</td>\n",
       "      <td>Telangana</td>\n",
       "    </tr>\n",
       "    <tr>\n",
       "      <td>575</td>\n",
       "      <td>0</td>\n",
       "      <td>149.00</td>\n",
       "      <td>0.00</td>\n",
       "      <td>0.00</td>\n",
       "      <td>0</td>\n",
       "      <td>0.000000</td>\n",
       "      <td>31</td>\n",
       "      <td>25000.00</td>\n",
       "      <td>1.0</td>\n",
       "      <td>0</td>\n",
       "      <td>Tuesday</td>\n",
       "      <td>10th Pass</td>\n",
       "      <td>Telangana</td>\n",
       "    </tr>\n",
       "    <tr>\n",
       "      <td>576</td>\n",
       "      <td>1</td>\n",
       "      <td>0.00</td>\n",
       "      <td>0.00</td>\n",
       "      <td>0.00</td>\n",
       "      <td>0</td>\n",
       "      <td>0.000000</td>\n",
       "      <td>30</td>\n",
       "      <td>11013.00</td>\n",
       "      <td>2.0</td>\n",
       "      <td>0</td>\n",
       "      <td>Friday</td>\n",
       "      <td>10th Pass</td>\n",
       "      <td>Not_Available</td>\n",
       "    </tr>\n",
       "    <tr>\n",
       "      <td>577</td>\n",
       "      <td>1</td>\n",
       "      <td>29017.84</td>\n",
       "      <td>0.00</td>\n",
       "      <td>512.84</td>\n",
       "      <td>0</td>\n",
       "      <td>0.000000</td>\n",
       "      <td>22</td>\n",
       "      <td>20663.00</td>\n",
       "      <td>1.0</td>\n",
       "      <td>1</td>\n",
       "      <td>Tuesday</td>\n",
       "      <td>Diploma</td>\n",
       "      <td>Uttar Pradesh</td>\n",
       "    </tr>\n",
       "    <tr>\n",
       "      <td>578</td>\n",
       "      <td>0</td>\n",
       "      <td>780.00</td>\n",
       "      <td>390.00</td>\n",
       "      <td>0.00</td>\n",
       "      <td>0</td>\n",
       "      <td>0.000000</td>\n",
       "      <td>21</td>\n",
       "      <td>24694.29</td>\n",
       "      <td>5.0</td>\n",
       "      <td>0</td>\n",
       "      <td>Sunday</td>\n",
       "      <td>12th Pass</td>\n",
       "      <td>Delhi</td>\n",
       "    </tr>\n",
       "  </tbody>\n",
       "</table>\n",
       "<p>579 rows × 13 columns</p>\n",
       "</div>"
      ],
      "text/plain": [
       "     bad_var  Net_debits_last_1_month  Net_credits_last_1_month  \\\n",
       "0          1                   589.26                   2998.00   \n",
       "1          0                  9700.00                       NaN   \n",
       "2          0                 11951.00                   8791.75   \n",
       "3          0                 28228.00                  17154.15   \n",
       "4          0                  8770.00                    775.00   \n",
       "..       ...                      ...                       ...   \n",
       "574        0                     0.00                      0.00   \n",
       "575        0                   149.00                      0.00   \n",
       "576        1                     0.00                      0.00   \n",
       "577        1                 29017.84                      0.00   \n",
       "578        0                   780.00                    390.00   \n",
       "\n",
       "     Balance_of_outstanding_loans_last_1_month  loan_enquiries_last_1_month  \\\n",
       "0                                         0.00                            0   \n",
       "1                                     89201.00                            4   \n",
       "2                                          NaN                           18   \n",
       "3                                     19346.00                           15   \n",
       "4                                         0.00                            0   \n",
       "..                                         ...                          ...   \n",
       "574                                    4700.00                            3   \n",
       "575                                       0.00                            0   \n",
       "576                                       0.00                            0   \n",
       "577                                     512.84                            0   \n",
       "578                                       0.00                            0   \n",
       "\n",
       "     overdue_on_outstanding_loans_last_1_month  age  monthly_salary  \\\n",
       "0                                     0.000000   24        25452.86   \n",
       "1                                     0.000000   43        11000.00   \n",
       "2                                          NaN   20         4351.00   \n",
       "3                                  8721.644826   28        25000.00   \n",
       "4                                     0.000000   22        12647.00   \n",
       "..                                         ...  ...             ...   \n",
       "574                                1220.063263   39        19617.00   \n",
       "575                                   0.000000   31        25000.00   \n",
       "576                                   0.000000   30        11013.00   \n",
       "577                                   0.000000   22        20663.00   \n",
       "578                                   0.000000   21        24694.29   \n",
       "\n",
       "     number_of_bank_accounts  married_indicator day_of_application  \\\n",
       "0                        1.0                  0             Friday   \n",
       "1                        1.0                  0             Friday   \n",
       "2                        2.0                  0             Monday   \n",
       "3                        1.0                  0          Wednesday   \n",
       "4                        1.0                  0             Monday   \n",
       "..                       ...                ...                ...   \n",
       "574                      2.0                  0           Thursday   \n",
       "575                      1.0                  0            Tuesday   \n",
       "576                      2.0                  0             Friday   \n",
       "577                      1.0                  1            Tuesday   \n",
       "578                      5.0                  0             Sunday   \n",
       "\n",
       "    levelofeducation_v1           state  \n",
       "0         Post Graduate           Delhi  \n",
       "1             12th Pass  Madhya Pradesh  \n",
       "2             12th Pass       Telangana  \n",
       "3              Graduate       Telangana  \n",
       "4              Graduate       Telangana  \n",
       "..                  ...             ...  \n",
       "574      less than 10th       Telangana  \n",
       "575           10th Pass       Telangana  \n",
       "576           10th Pass   Not_Available  \n",
       "577             Diploma   Uttar Pradesh  \n",
       "578           12th Pass           Delhi  \n",
       "\n",
       "[579 rows x 13 columns]"
      ]
     },
     "execution_count": 7,
     "metadata": {},
     "output_type": "execute_result"
    }
   ],
   "source": [
    "dataset.drop_duplicates()"
   ]
  },
  {
   "cell_type": "code",
   "execution_count": 8,
   "metadata": {},
   "outputs": [
    {
     "data": {
      "text/plain": [
       "(579, 13)"
      ]
     },
     "execution_count": 8,
     "metadata": {},
     "output_type": "execute_result"
    }
   ],
   "source": [
    "dataset.shape"
   ]
  },
  {
   "cell_type": "markdown",
   "metadata": {},
   "source": [
    "### Descriptive analysis"
   ]
  },
  {
   "cell_type": "code",
   "execution_count": 9,
   "metadata": {},
   "outputs": [
    {
     "data": {
      "text/plain": [
       "Karnataka         175\n",
       "Telangana         127\n",
       "Maharashtra        92\n",
       "Tamil Nadu         37\n",
       "Delhi              30\n",
       "Rajasthan          22\n",
       "West Bengal        20\n",
       "Gujarat            20\n",
       "Uttar Pradesh      12\n",
       "Andhra Pradesh      8\n",
       "Kerala              8\n",
       "Haryana             7\n",
       "Orissa              6\n",
       "Not_Available       5\n",
       "Madhya Pradesh      4\n",
       "Punjab              3\n",
       "Assam               2\n",
       "Bihar               1\n",
       "Name: state, dtype: int64"
      ]
     },
     "execution_count": 9,
     "metadata": {},
     "output_type": "execute_result"
    }
   ],
   "source": [
    "# Categorical Variables\n",
    "dataset['state'].value_counts()"
   ]
  },
  {
   "cell_type": "code",
   "execution_count": 10,
   "metadata": {},
   "outputs": [
    {
     "data": {
      "text/plain": [
       "12th Pass         165\n",
       "10th Pass         140\n",
       "Graduate          127\n",
       "less than 10th     79\n",
       "Diploma            43\n",
       "Post Graduate      25\n",
       "Name: levelofeducation_v1, dtype: int64"
      ]
     },
     "execution_count": 10,
     "metadata": {},
     "output_type": "execute_result"
    }
   ],
   "source": [
    "dataset['levelofeducation_v1'].value_counts()"
   ]
  },
  {
   "cell_type": "code",
   "execution_count": 11,
   "metadata": {},
   "outputs": [
    {
     "data": {
      "text/plain": [
       "Wednesday            97\n",
       "Saturday             93\n",
       "Thursday             92\n",
       "Friday               87\n",
       "Tuesday              85\n",
       "Monday               79\n",
       "Sunday               45\n",
       "missing_form_data     1\n",
       "Name: day_of_application, dtype: int64"
      ]
     },
     "execution_count": 11,
     "metadata": {},
     "output_type": "execute_result"
    }
   ],
   "source": [
    "dataset['day_of_application'].value_counts()"
   ]
  },
  {
   "cell_type": "code",
   "execution_count": 12,
   "metadata": {},
   "outputs": [
    {
     "data": {
      "text/plain": [
       "0    536\n",
       "1     43\n",
       "Name: married_indicator, dtype: int64"
      ]
     },
     "execution_count": 12,
     "metadata": {},
     "output_type": "execute_result"
    }
   ],
   "source": [
    "dataset['married_indicator'].value_counts()"
   ]
  },
  {
   "cell_type": "code",
   "execution_count": 13,
   "metadata": {},
   "outputs": [
    {
     "data": {
      "text/plain": [
       "1.0    305\n",
       "2.0    171\n",
       "3.0     43\n",
       "5.0     21\n",
       "4.0     20\n",
       "Name: number_of_bank_accounts, dtype: int64"
      ]
     },
     "execution_count": 13,
     "metadata": {},
     "output_type": "execute_result"
    }
   ],
   "source": [
    "dataset['number_of_bank_accounts'].value_counts()"
   ]
  },
  {
   "cell_type": "code",
   "execution_count": 14,
   "metadata": {},
   "outputs": [],
   "source": [
    "## For numerical Variables\n",
    "df_tab=pd.DataFrame(dataset.describe(include='all')).stack().unstack(0)"
   ]
  },
  {
   "cell_type": "code",
   "execution_count": 15,
   "metadata": {},
   "outputs": [],
   "source": [
    "try:\n",
    "    df_tab['cnt_null'] = dataset.apply(lambda col: col.isnull().sum())\n",
    "    df_tab['null_%'] = df_tab.apply(lambda row: round((row['cnt_null']/(row['cnt_null']+row['count']))*100,2), axis=1)\n",
    "    df_tab['cnt_unique']=dataset.apply(lambda col: len(col.unique().tolist()))\n",
    "    df_tab['cnt_zeros'] = dataset.isin([0]).sum(axis=0)\n",
    "    df_tab['cnt_zero_and_null'] = df_tab['cnt_null']+df_tab['cnt_zeros']\n",
    "    df_tab['zero_null_%'] = df_tab['cnt_zero_and_null']*100 / dataset.shape[0]\n",
    "    df_tab['Data_Type'] = dataset.dtypes\n",
    "    df_tab['variance']=dataset.var(axis=0)\n",
    "    df_tab['mode'] = dataset.mode().iloc[0,:]\n",
    "    df_tab['1%'] = dataset.quantile(0.01)\n",
    "    df_tab['5%'] = dataset.quantile(0.05)\n",
    "    df_tab['95%'] = dataset.quantile(0.95)\n",
    "    df_tab['99%'] = dataset.quantile(0.99)\n",
    "except TypeError:\n",
    "    pass\n",
    "df_tab.rename(columns={'50%':'median'},inplace=True)\n",
    "df_tab.rename(columns={'count':'cnt_non_null'},inplace=True)"
   ]
  },
  {
   "cell_type": "code",
   "execution_count": 16,
   "metadata": {},
   "outputs": [
    {
     "name": "stdout",
     "output_type": "stream",
     "text": [
      "Index(['cnt_non_null', 'unique', 'top', 'freq', 'mean', 'std', 'min', '25%',\n",
      "       'median', '75%', 'max', 'cnt_null', 'null_%', 'cnt_unique', 'cnt_zeros',\n",
      "       'cnt_zero_and_null', 'zero_null_%', 'Data_Type', 'variance', 'mode',\n",
      "       '1%', '5%', '95%', '99%'],\n",
      "      dtype='object')\n"
     ]
    }
   ],
   "source": [
    "#display the result\n",
    "print(df_tab.columns)\n",
    "df_tab=df_tab[df_tab.columns.difference(['unique','top','freq'])]"
   ]
  },
  {
   "cell_type": "code",
   "execution_count": 17,
   "metadata": {},
   "outputs": [],
   "source": [
    "df_tab=df_tab[['Data_Type','cnt_non_null','cnt_null','null_%','cnt_unique','cnt_zeros','cnt_zero_and_null','zero_null_%','mean','std','min','1%','5%','25%','median','75%','95%','99%','max','variance','mode']]"
   ]
  },
  {
   "cell_type": "code",
   "execution_count": 18,
   "metadata": {
    "scrolled": true
   },
   "outputs": [
    {
     "data": {
      "text/html": [
       "<div>\n",
       "<style scoped>\n",
       "    .dataframe tbody tr th:only-of-type {\n",
       "        vertical-align: middle;\n",
       "    }\n",
       "\n",
       "    .dataframe tbody tr th {\n",
       "        vertical-align: top;\n",
       "    }\n",
       "\n",
       "    .dataframe thead th {\n",
       "        text-align: right;\n",
       "    }\n",
       "</style>\n",
       "<table border=\"1\" class=\"dataframe\">\n",
       "  <thead>\n",
       "    <tr style=\"text-align: right;\">\n",
       "      <th></th>\n",
       "      <th>Data_Type</th>\n",
       "      <th>cnt_non_null</th>\n",
       "      <th>cnt_null</th>\n",
       "      <th>null_%</th>\n",
       "      <th>cnt_unique</th>\n",
       "      <th>cnt_zeros</th>\n",
       "      <th>cnt_zero_and_null</th>\n",
       "      <th>zero_null_%</th>\n",
       "      <th>mean</th>\n",
       "      <th>std</th>\n",
       "      <th>...</th>\n",
       "      <th>1%</th>\n",
       "      <th>5%</th>\n",
       "      <th>25%</th>\n",
       "      <th>median</th>\n",
       "      <th>75%</th>\n",
       "      <th>95%</th>\n",
       "      <th>99%</th>\n",
       "      <th>max</th>\n",
       "      <th>variance</th>\n",
       "      <th>mode</th>\n",
       "    </tr>\n",
       "  </thead>\n",
       "  <tbody>\n",
       "    <tr>\n",
       "      <td>bad_var</td>\n",
       "      <td>int64</td>\n",
       "      <td>579</td>\n",
       "      <td>0</td>\n",
       "      <td>0.00</td>\n",
       "      <td>2</td>\n",
       "      <td>355</td>\n",
       "      <td>355</td>\n",
       "      <td>61.312608</td>\n",
       "      <td>0.386874</td>\n",
       "      <td>0.487456</td>\n",
       "      <td>...</td>\n",
       "      <td>0.0000</td>\n",
       "      <td>0.00</td>\n",
       "      <td>0</td>\n",
       "      <td>0</td>\n",
       "      <td>1</td>\n",
       "      <td>1.000000</td>\n",
       "      <td>1.000000</td>\n",
       "      <td>1</td>\n",
       "      <td>2.376129e-01</td>\n",
       "      <td>0</td>\n",
       "    </tr>\n",
       "    <tr>\n",
       "      <td>Net_debits_last_1_month</td>\n",
       "      <td>float64</td>\n",
       "      <td>579</td>\n",
       "      <td>0</td>\n",
       "      <td>0.00</td>\n",
       "      <td>411</td>\n",
       "      <td>151</td>\n",
       "      <td>151</td>\n",
       "      <td>26.079447</td>\n",
       "      <td>10760.8</td>\n",
       "      <td>13427.7</td>\n",
       "      <td>...</td>\n",
       "      <td>0.0000</td>\n",
       "      <td>0.00</td>\n",
       "      <td>0</td>\n",
       "      <td>4695.6</td>\n",
       "      <td>17591.4</td>\n",
       "      <td>39867.201000</td>\n",
       "      <td>46909.017600</td>\n",
       "      <td>49775</td>\n",
       "      <td>1.803044e+08</td>\n",
       "      <td>0</td>\n",
       "    </tr>\n",
       "    <tr>\n",
       "      <td>Net_credits_last_1_month</td>\n",
       "      <td>float64</td>\n",
       "      <td>511</td>\n",
       "      <td>68</td>\n",
       "      <td>11.74</td>\n",
       "      <td>332</td>\n",
       "      <td>161</td>\n",
       "      <td>229</td>\n",
       "      <td>39.550950</td>\n",
       "      <td>9678.14</td>\n",
       "      <td>12729.9</td>\n",
       "      <td>...</td>\n",
       "      <td>0.0000</td>\n",
       "      <td>0.00</td>\n",
       "      <td>0</td>\n",
       "      <td>3361</td>\n",
       "      <td>14850.8</td>\n",
       "      <td>37997.320000</td>\n",
       "      <td>46823.400000</td>\n",
       "      <td>49517.5</td>\n",
       "      <td>1.620515e+08</td>\n",
       "      <td>0</td>\n",
       "    </tr>\n",
       "    <tr>\n",
       "      <td>Balance_of_outstanding_loans_last_1_month</td>\n",
       "      <td>float64</td>\n",
       "      <td>517</td>\n",
       "      <td>62</td>\n",
       "      <td>10.71</td>\n",
       "      <td>356</td>\n",
       "      <td>142</td>\n",
       "      <td>204</td>\n",
       "      <td>35.233161</td>\n",
       "      <td>14048.4</td>\n",
       "      <td>22240.2</td>\n",
       "      <td>...</td>\n",
       "      <td>0.0000</td>\n",
       "      <td>0.00</td>\n",
       "      <td>0</td>\n",
       "      <td>2547</td>\n",
       "      <td>19453</td>\n",
       "      <td>67193.000000</td>\n",
       "      <td>89174.873600</td>\n",
       "      <td>100000</td>\n",
       "      <td>4.946261e+08</td>\n",
       "      <td>0</td>\n",
       "    </tr>\n",
       "    <tr>\n",
       "      <td>loan_enquiries_last_1_month</td>\n",
       "      <td>int64</td>\n",
       "      <td>579</td>\n",
       "      <td>0</td>\n",
       "      <td>0.00</td>\n",
       "      <td>39</td>\n",
       "      <td>199</td>\n",
       "      <td>199</td>\n",
       "      <td>34.369603</td>\n",
       "      <td>4.68912</td>\n",
       "      <td>8.05883</td>\n",
       "      <td>...</td>\n",
       "      <td>0.0000</td>\n",
       "      <td>0.00</td>\n",
       "      <td>0</td>\n",
       "      <td>2</td>\n",
       "      <td>6</td>\n",
       "      <td>19.100000</td>\n",
       "      <td>37.660000</td>\n",
       "      <td>78</td>\n",
       "      <td>6.494471e+01</td>\n",
       "      <td>0</td>\n",
       "    </tr>\n",
       "    <tr>\n",
       "      <td>overdue_on_outstanding_loans_last_1_month</td>\n",
       "      <td>float64</td>\n",
       "      <td>559</td>\n",
       "      <td>20</td>\n",
       "      <td>3.45</td>\n",
       "      <td>305</td>\n",
       "      <td>234</td>\n",
       "      <td>254</td>\n",
       "      <td>43.868739</td>\n",
       "      <td>3764.46</td>\n",
       "      <td>7694</td>\n",
       "      <td>...</td>\n",
       "      <td>0.0000</td>\n",
       "      <td>0.00</td>\n",
       "      <td>0</td>\n",
       "      <td>89.0194</td>\n",
       "      <td>3247.76</td>\n",
       "      <td>21321.113873</td>\n",
       "      <td>34213.900136</td>\n",
       "      <td>45245.8</td>\n",
       "      <td>5.919765e+07</td>\n",
       "      <td>0</td>\n",
       "    </tr>\n",
       "    <tr>\n",
       "      <td>age</td>\n",
       "      <td>int64</td>\n",
       "      <td>579</td>\n",
       "      <td>0</td>\n",
       "      <td>0.00</td>\n",
       "      <td>32</td>\n",
       "      <td>0</td>\n",
       "      <td>0</td>\n",
       "      <td>0.000000</td>\n",
       "      <td>28.9534</td>\n",
       "      <td>5.93035</td>\n",
       "      <td>...</td>\n",
       "      <td>20.0000</td>\n",
       "      <td>21.00</td>\n",
       "      <td>24</td>\n",
       "      <td>28</td>\n",
       "      <td>33</td>\n",
       "      <td>39.000000</td>\n",
       "      <td>45.220000</td>\n",
       "      <td>49</td>\n",
       "      <td>3.516910e+01</td>\n",
       "      <td>25</td>\n",
       "    </tr>\n",
       "    <tr>\n",
       "      <td>monthly_salary</td>\n",
       "      <td>float64</td>\n",
       "      <td>578</td>\n",
       "      <td>1</td>\n",
       "      <td>0.17</td>\n",
       "      <td>485</td>\n",
       "      <td>0</td>\n",
       "      <td>1</td>\n",
       "      <td>0.172712</td>\n",
       "      <td>19633.5</td>\n",
       "      <td>10319.7</td>\n",
       "      <td>...</td>\n",
       "      <td>3056.7411</td>\n",
       "      <td>8216.95</td>\n",
       "      <td>12766.5</td>\n",
       "      <td>18000</td>\n",
       "      <td>25000</td>\n",
       "      <td>36235.924500</td>\n",
       "      <td>51307.140000</td>\n",
       "      <td>93132.9</td>\n",
       "      <td>1.064952e+08</td>\n",
       "      <td>20000</td>\n",
       "    </tr>\n",
       "    <tr>\n",
       "      <td>number_of_bank_accounts</td>\n",
       "      <td>float64</td>\n",
       "      <td>560</td>\n",
       "      <td>19</td>\n",
       "      <td>3.28</td>\n",
       "      <td>6</td>\n",
       "      <td>0</td>\n",
       "      <td>19</td>\n",
       "      <td>3.281520</td>\n",
       "      <td>1.71607</td>\n",
       "      <td>1.01143</td>\n",
       "      <td>...</td>\n",
       "      <td>1.0000</td>\n",
       "      <td>1.00</td>\n",
       "      <td>1</td>\n",
       "      <td>1</td>\n",
       "      <td>2</td>\n",
       "      <td>4.000000</td>\n",
       "      <td>5.000000</td>\n",
       "      <td>5</td>\n",
       "      <td>1.022997e+00</td>\n",
       "      <td>1</td>\n",
       "    </tr>\n",
       "    <tr>\n",
       "      <td>married_indicator</td>\n",
       "      <td>int64</td>\n",
       "      <td>579</td>\n",
       "      <td>0</td>\n",
       "      <td>0.00</td>\n",
       "      <td>2</td>\n",
       "      <td>536</td>\n",
       "      <td>536</td>\n",
       "      <td>92.573402</td>\n",
       "      <td>0.074266</td>\n",
       "      <td>0.26243</td>\n",
       "      <td>...</td>\n",
       "      <td>0.0000</td>\n",
       "      <td>0.00</td>\n",
       "      <td>0</td>\n",
       "      <td>0</td>\n",
       "      <td>0</td>\n",
       "      <td>1.000000</td>\n",
       "      <td>1.000000</td>\n",
       "      <td>1</td>\n",
       "      <td>6.886949e-02</td>\n",
       "      <td>0</td>\n",
       "    </tr>\n",
       "    <tr>\n",
       "      <td>day_of_application</td>\n",
       "      <td>object</td>\n",
       "      <td>579</td>\n",
       "      <td>0</td>\n",
       "      <td>0.00</td>\n",
       "      <td>8</td>\n",
       "      <td>0</td>\n",
       "      <td>0</td>\n",
       "      <td>0.000000</td>\n",
       "      <td>NaN</td>\n",
       "      <td>NaN</td>\n",
       "      <td>...</td>\n",
       "      <td>NaN</td>\n",
       "      <td>NaN</td>\n",
       "      <td>NaN</td>\n",
       "      <td>NaN</td>\n",
       "      <td>NaN</td>\n",
       "      <td>NaN</td>\n",
       "      <td>NaN</td>\n",
       "      <td>NaN</td>\n",
       "      <td>NaN</td>\n",
       "      <td>Wednesday</td>\n",
       "    </tr>\n",
       "    <tr>\n",
       "      <td>levelofeducation_v1</td>\n",
       "      <td>object</td>\n",
       "      <td>579</td>\n",
       "      <td>0</td>\n",
       "      <td>0.00</td>\n",
       "      <td>6</td>\n",
       "      <td>0</td>\n",
       "      <td>0</td>\n",
       "      <td>0.000000</td>\n",
       "      <td>NaN</td>\n",
       "      <td>NaN</td>\n",
       "      <td>...</td>\n",
       "      <td>NaN</td>\n",
       "      <td>NaN</td>\n",
       "      <td>NaN</td>\n",
       "      <td>NaN</td>\n",
       "      <td>NaN</td>\n",
       "      <td>NaN</td>\n",
       "      <td>NaN</td>\n",
       "      <td>NaN</td>\n",
       "      <td>NaN</td>\n",
       "      <td>12th Pass</td>\n",
       "    </tr>\n",
       "    <tr>\n",
       "      <td>state</td>\n",
       "      <td>object</td>\n",
       "      <td>579</td>\n",
       "      <td>0</td>\n",
       "      <td>0.00</td>\n",
       "      <td>18</td>\n",
       "      <td>0</td>\n",
       "      <td>0</td>\n",
       "      <td>0.000000</td>\n",
       "      <td>NaN</td>\n",
       "      <td>NaN</td>\n",
       "      <td>...</td>\n",
       "      <td>NaN</td>\n",
       "      <td>NaN</td>\n",
       "      <td>NaN</td>\n",
       "      <td>NaN</td>\n",
       "      <td>NaN</td>\n",
       "      <td>NaN</td>\n",
       "      <td>NaN</td>\n",
       "      <td>NaN</td>\n",
       "      <td>NaN</td>\n",
       "      <td>Karnataka</td>\n",
       "    </tr>\n",
       "  </tbody>\n",
       "</table>\n",
       "<p>13 rows × 21 columns</p>\n",
       "</div>"
      ],
      "text/plain": [
       "                                          Data_Type cnt_non_null  cnt_null  \\\n",
       "bad_var                                       int64          579         0   \n",
       "Net_debits_last_1_month                     float64          579         0   \n",
       "Net_credits_last_1_month                    float64          511        68   \n",
       "Balance_of_outstanding_loans_last_1_month   float64          517        62   \n",
       "loan_enquiries_last_1_month                   int64          579         0   \n",
       "overdue_on_outstanding_loans_last_1_month   float64          559        20   \n",
       "age                                           int64          579         0   \n",
       "monthly_salary                              float64          578         1   \n",
       "number_of_bank_accounts                     float64          560        19   \n",
       "married_indicator                             int64          579         0   \n",
       "day_of_application                           object          579         0   \n",
       "levelofeducation_v1                          object          579         0   \n",
       "state                                        object          579         0   \n",
       "\n",
       "                                           null_%  cnt_unique  cnt_zeros  \\\n",
       "bad_var                                      0.00           2        355   \n",
       "Net_debits_last_1_month                      0.00         411        151   \n",
       "Net_credits_last_1_month                    11.74         332        161   \n",
       "Balance_of_outstanding_loans_last_1_month   10.71         356        142   \n",
       "loan_enquiries_last_1_month                  0.00          39        199   \n",
       "overdue_on_outstanding_loans_last_1_month    3.45         305        234   \n",
       "age                                          0.00          32          0   \n",
       "monthly_salary                               0.17         485          0   \n",
       "number_of_bank_accounts                      3.28           6          0   \n",
       "married_indicator                            0.00           2        536   \n",
       "day_of_application                           0.00           8          0   \n",
       "levelofeducation_v1                          0.00           6          0   \n",
       "state                                        0.00          18          0   \n",
       "\n",
       "                                           cnt_zero_and_null  zero_null_%  \\\n",
       "bad_var                                                  355    61.312608   \n",
       "Net_debits_last_1_month                                  151    26.079447   \n",
       "Net_credits_last_1_month                                 229    39.550950   \n",
       "Balance_of_outstanding_loans_last_1_month                204    35.233161   \n",
       "loan_enquiries_last_1_month                              199    34.369603   \n",
       "overdue_on_outstanding_loans_last_1_month                254    43.868739   \n",
       "age                                                        0     0.000000   \n",
       "monthly_salary                                             1     0.172712   \n",
       "number_of_bank_accounts                                   19     3.281520   \n",
       "married_indicator                                        536    92.573402   \n",
       "day_of_application                                         0     0.000000   \n",
       "levelofeducation_v1                                        0     0.000000   \n",
       "state                                                      0     0.000000   \n",
       "\n",
       "                                               mean       std  ...         1%  \\\n",
       "bad_var                                    0.386874  0.487456  ...     0.0000   \n",
       "Net_debits_last_1_month                     10760.8   13427.7  ...     0.0000   \n",
       "Net_credits_last_1_month                    9678.14   12729.9  ...     0.0000   \n",
       "Balance_of_outstanding_loans_last_1_month   14048.4   22240.2  ...     0.0000   \n",
       "loan_enquiries_last_1_month                 4.68912   8.05883  ...     0.0000   \n",
       "overdue_on_outstanding_loans_last_1_month   3764.46      7694  ...     0.0000   \n",
       "age                                         28.9534   5.93035  ...    20.0000   \n",
       "monthly_salary                              19633.5   10319.7  ...  3056.7411   \n",
       "number_of_bank_accounts                     1.71607   1.01143  ...     1.0000   \n",
       "married_indicator                          0.074266   0.26243  ...     0.0000   \n",
       "day_of_application                              NaN       NaN  ...        NaN   \n",
       "levelofeducation_v1                             NaN       NaN  ...        NaN   \n",
       "state                                           NaN       NaN  ...        NaN   \n",
       "\n",
       "                                                5%      25%   median      75%  \\\n",
       "bad_var                                       0.00        0        0        1   \n",
       "Net_debits_last_1_month                       0.00        0   4695.6  17591.4   \n",
       "Net_credits_last_1_month                      0.00        0     3361  14850.8   \n",
       "Balance_of_outstanding_loans_last_1_month     0.00        0     2547    19453   \n",
       "loan_enquiries_last_1_month                   0.00        0        2        6   \n",
       "overdue_on_outstanding_loans_last_1_month     0.00        0  89.0194  3247.76   \n",
       "age                                          21.00       24       28       33   \n",
       "monthly_salary                             8216.95  12766.5    18000    25000   \n",
       "number_of_bank_accounts                       1.00        1        1        2   \n",
       "married_indicator                             0.00        0        0        0   \n",
       "day_of_application                             NaN      NaN      NaN      NaN   \n",
       "levelofeducation_v1                            NaN      NaN      NaN      NaN   \n",
       "state                                          NaN      NaN      NaN      NaN   \n",
       "\n",
       "                                                    95%           99%  \\\n",
       "bad_var                                        1.000000      1.000000   \n",
       "Net_debits_last_1_month                    39867.201000  46909.017600   \n",
       "Net_credits_last_1_month                   37997.320000  46823.400000   \n",
       "Balance_of_outstanding_loans_last_1_month  67193.000000  89174.873600   \n",
       "loan_enquiries_last_1_month                   19.100000     37.660000   \n",
       "overdue_on_outstanding_loans_last_1_month  21321.113873  34213.900136   \n",
       "age                                           39.000000     45.220000   \n",
       "monthly_salary                             36235.924500  51307.140000   \n",
       "number_of_bank_accounts                        4.000000      5.000000   \n",
       "married_indicator                              1.000000      1.000000   \n",
       "day_of_application                                  NaN           NaN   \n",
       "levelofeducation_v1                                 NaN           NaN   \n",
       "state                                               NaN           NaN   \n",
       "\n",
       "                                               max      variance       mode  \n",
       "bad_var                                          1  2.376129e-01          0  \n",
       "Net_debits_last_1_month                      49775  1.803044e+08          0  \n",
       "Net_credits_last_1_month                   49517.5  1.620515e+08          0  \n",
       "Balance_of_outstanding_loans_last_1_month   100000  4.946261e+08          0  \n",
       "loan_enquiries_last_1_month                     78  6.494471e+01          0  \n",
       "overdue_on_outstanding_loans_last_1_month  45245.8  5.919765e+07          0  \n",
       "age                                             49  3.516910e+01         25  \n",
       "monthly_salary                             93132.9  1.064952e+08      20000  \n",
       "number_of_bank_accounts                          5  1.022997e+00          1  \n",
       "married_indicator                                1  6.886949e-02          0  \n",
       "day_of_application                             NaN           NaN  Wednesday  \n",
       "levelofeducation_v1                            NaN           NaN  12th Pass  \n",
       "state                                          NaN           NaN  Karnataka  \n",
       "\n",
       "[13 rows x 21 columns]"
      ]
     },
     "execution_count": 18,
     "metadata": {},
     "output_type": "execute_result"
    }
   ],
   "source": [
    "df_tab.to_csv(\"Q2_Data_Description.csv\")\n",
    "df_tab"
   ]
  },
  {
   "cell_type": "code",
   "execution_count": 19,
   "metadata": {},
   "outputs": [],
   "source": [
    "# Data Cleaning, transformation and conversion\n",
    "from sklearn.preprocessing import LabelEncoder"
   ]
  },
  {
   "cell_type": "code",
   "execution_count": 20,
   "metadata": {},
   "outputs": [],
   "source": [
    "# 1. Categorical Variables\n",
    "le = LabelEncoder()"
   ]
  },
  {
   "cell_type": "code",
   "execution_count": 21,
   "metadata": {},
   "outputs": [],
   "source": [
    "# 1. State : As most of the state belongs to south, hence simply categorizing the labels into South and North\n",
    "# As the mode is Karnataka, hence convering missing term(Not_Available) in category of Karnataka i.e. South\n",
    "dataset['state'] = dataset['state'].replace(['Karnataka','Telangana','Tamil Nadu','Kerala','Andhra Pradesh','Not_Available'],'South')\n",
    "dataset['state'] = dataset['state'].replace(['Haryana','Orissa','Madhya Pradesh','Punjab','Assam','Bihar'\n",
    "                                             ,'Maharashtra','Delhi','Rajasthan','West Bengal','Gujarat','Uttar Pradesh'],'North')\n",
    "dataset['state'] = le.fit_transform(dataset['state']) # 1 - South, 0 - North\n"
   ]
  },
  {
   "cell_type": "code",
   "execution_count": 22,
   "metadata": {},
   "outputs": [
    {
     "data": {
      "text/plain": [
       "1    360\n",
       "0    219\n",
       "Name: state, dtype: int64"
      ]
     },
     "execution_count": 22,
     "metadata": {},
     "output_type": "execute_result"
    }
   ],
   "source": [
    "dataset['state'].value_counts()"
   ]
  },
  {
   "cell_type": "code",
   "execution_count": 23,
   "metadata": {},
   "outputs": [],
   "source": [
    "# 2. levelofeducation_v1 : As most of the levelofeducation_v1 belongs to Under_graduate, hence simply categorizing the labels into Under_graduate and Graduate\n",
    "dataset['levelofeducation_v1'] = dataset['levelofeducation_v1'].replace(['12th Pass','10th Pass','less than 10th','Diploma'],'Under_graduate')\n",
    "dataset['levelofeducation_v1'] = dataset['levelofeducation_v1'].replace(['Graduate','Post Graduate'],'Graduate')\n",
    "dataset['levelofeducation_v1'] = le.fit_transform(dataset['levelofeducation_v1']) # 1 - Under_graduate, 0 - Graduate\n"
   ]
  },
  {
   "cell_type": "code",
   "execution_count": 24,
   "metadata": {},
   "outputs": [
    {
     "data": {
      "text/plain": [
       "1    427\n",
       "0    152\n",
       "Name: levelofeducation_v1, dtype: int64"
      ]
     },
     "execution_count": 24,
     "metadata": {},
     "output_type": "execute_result"
    }
   ],
   "source": [
    "dataset['levelofeducation_v1'].value_counts()"
   ]
  },
  {
   "cell_type": "code",
   "execution_count": 25,
   "metadata": {},
   "outputs": [],
   "source": [
    "# 3. day_of_application : \n",
    "# As most of the day_of_application belongs to Weekday, hence simply categorizing the labels into Weekday and Weekend\n",
    "# As the mode is Wednesday, hence convering missing term(missing_form_data) in category of Wednesday i.e. Weekday\n",
    "dataset['day_of_application'] = dataset['day_of_application'].replace(['Monday','Tuesday','Wednesday','Thursday','Friday','missing_form_data'],'Weekday')\n",
    "dataset['day_of_application'] = dataset['day_of_application'].replace(['Saturday','Sunday'],'Weekend')\n",
    "dataset['day_of_application'] = le.fit_transform(dataset['day_of_application']) # 1 - Weekend, 0 - Weekday\n",
    "\n"
   ]
  },
  {
   "cell_type": "code",
   "execution_count": 26,
   "metadata": {
    "scrolled": true
   },
   "outputs": [
    {
     "data": {
      "text/plain": [
       "0    441\n",
       "1    138\n",
       "Name: day_of_application, dtype: int64"
      ]
     },
     "execution_count": 26,
     "metadata": {},
     "output_type": "execute_result"
    }
   ],
   "source": [
    "dataset['day_of_application'].value_counts()"
   ]
  },
  {
   "cell_type": "code",
   "execution_count": 27,
   "metadata": {},
   "outputs": [
    {
     "data": {
      "text/plain": [
       "1.0    324\n",
       "2.0    171\n",
       "3.0     43\n",
       "5.0     21\n",
       "4.0     20\n",
       "Name: number_of_bank_accounts, dtype: int64"
      ]
     },
     "execution_count": 27,
     "metadata": {},
     "output_type": "execute_result"
    }
   ],
   "source": [
    "# 4. number_of_bank_accounts : \n",
    "# It's an ordinal data hence replacing missing value with median\n",
    "dataset['number_of_bank_accounts']= dataset['number_of_bank_accounts'].replace(np.NaN, dataset['number_of_bank_accounts'].median())\n",
    "dataset['number_of_bank_accounts'].value_counts()\n"
   ]
  },
  {
   "cell_type": "code",
   "execution_count": 28,
   "metadata": {},
   "outputs": [
    {
     "data": {
      "text/plain": [
       "False    579\n",
       "Name: monthly_salary, dtype: int64"
      ]
     },
     "execution_count": 28,
     "metadata": {},
     "output_type": "execute_result"
    }
   ],
   "source": [
    "#5. monthly_salary:\n",
    "# replacing missing value with mean, as it's a continuous variable\n",
    "dataset['monthly_salary']= dataset['monthly_salary'].replace(np.NaN, dataset['monthly_salary'].mean())\n",
    "dataset['monthly_salary'].isnull().value_counts()\n"
   ]
  },
  {
   "cell_type": "code",
   "execution_count": 29,
   "metadata": {},
   "outputs": [
    {
     "data": {
      "text/plain": [
       "False    579\n",
       "Name: Net_credits_last_1_month, dtype: int64"
      ]
     },
     "execution_count": 29,
     "metadata": {},
     "output_type": "execute_result"
    }
   ],
   "source": [
    "#6. monthly_salary:\n",
    "# replacing missing value with mean, as it's a continuous variable\n",
    "dataset['Net_credits_last_1_month']= dataset['Net_credits_last_1_month'].replace(np.NaN, dataset['Net_credits_last_1_month'].mean())\n",
    "dataset['Net_credits_last_1_month'].isnull().value_counts()\n",
    "\n"
   ]
  },
  {
   "cell_type": "code",
   "execution_count": 30,
   "metadata": {},
   "outputs": [
    {
     "data": {
      "text/plain": [
       "False    579\n",
       "Name: Balance_of_outstanding_loans_last_1_month, dtype: int64"
      ]
     },
     "execution_count": 30,
     "metadata": {},
     "output_type": "execute_result"
    }
   ],
   "source": [
    "#7. Balance_of_outstanding_loans_last_1_month:\n",
    "# replacing missing value with mean, as it's a continuous variable\n",
    "dataset['Balance_of_outstanding_loans_last_1_month']= dataset['Balance_of_outstanding_loans_last_1_month'].replace(np.NaN, dataset['Balance_of_outstanding_loans_last_1_month'].mean())\n",
    "dataset['Balance_of_outstanding_loans_last_1_month'].isnull().value_counts()\n"
   ]
  },
  {
   "cell_type": "code",
   "execution_count": 31,
   "metadata": {},
   "outputs": [
    {
     "data": {
      "text/plain": [
       "False    579\n",
       "Name: overdue_on_outstanding_loans_last_1_month, dtype: int64"
      ]
     },
     "execution_count": 31,
     "metadata": {},
     "output_type": "execute_result"
    }
   ],
   "source": [
    "#7. overdue_on_outstanding_loans_last_1_month:\n",
    "# replacing missing value with mean, as it's a continuous variable\n",
    "dataset['overdue_on_outstanding_loans_last_1_month']= dataset['overdue_on_outstanding_loans_last_1_month'].replace(np.NaN, dataset['overdue_on_outstanding_loans_last_1_month'].mean())\n",
    "dataset['overdue_on_outstanding_loans_last_1_month'].isnull().value_counts()\n"
   ]
  },
  {
   "cell_type": "code",
   "execution_count": 32,
   "metadata": {},
   "outputs": [
    {
     "data": {
      "text/html": [
       "<div>\n",
       "<style scoped>\n",
       "    .dataframe tbody tr th:only-of-type {\n",
       "        vertical-align: middle;\n",
       "    }\n",
       "\n",
       "    .dataframe tbody tr th {\n",
       "        vertical-align: top;\n",
       "    }\n",
       "\n",
       "    .dataframe thead th {\n",
       "        text-align: right;\n",
       "    }\n",
       "</style>\n",
       "<table border=\"1\" class=\"dataframe\">\n",
       "  <thead>\n",
       "    <tr style=\"text-align: right;\">\n",
       "      <th></th>\n",
       "      <th>bad_var</th>\n",
       "      <th>Net_debits_last_1_month</th>\n",
       "      <th>Net_credits_last_1_month</th>\n",
       "      <th>Balance_of_outstanding_loans_last_1_month</th>\n",
       "      <th>loan_enquiries_last_1_month</th>\n",
       "      <th>overdue_on_outstanding_loans_last_1_month</th>\n",
       "      <th>age</th>\n",
       "      <th>monthly_salary</th>\n",
       "      <th>number_of_bank_accounts</th>\n",
       "      <th>married_indicator</th>\n",
       "      <th>day_of_application</th>\n",
       "      <th>levelofeducation_v1</th>\n",
       "      <th>state</th>\n",
       "    </tr>\n",
       "  </thead>\n",
       "  <tbody>\n",
       "    <tr>\n",
       "      <td>0</td>\n",
       "      <td>1</td>\n",
       "      <td>589.26</td>\n",
       "      <td>2998.000000</td>\n",
       "      <td>0.000000</td>\n",
       "      <td>0</td>\n",
       "      <td>0.000000</td>\n",
       "      <td>24</td>\n",
       "      <td>25452.86</td>\n",
       "      <td>1.0</td>\n",
       "      <td>0</td>\n",
       "      <td>0</td>\n",
       "      <td>0</td>\n",
       "      <td>0</td>\n",
       "    </tr>\n",
       "    <tr>\n",
       "      <td>1</td>\n",
       "      <td>0</td>\n",
       "      <td>9700.00</td>\n",
       "      <td>9678.138141</td>\n",
       "      <td>89201.000000</td>\n",
       "      <td>4</td>\n",
       "      <td>0.000000</td>\n",
       "      <td>43</td>\n",
       "      <td>11000.00</td>\n",
       "      <td>1.0</td>\n",
       "      <td>0</td>\n",
       "      <td>0</td>\n",
       "      <td>1</td>\n",
       "      <td>0</td>\n",
       "    </tr>\n",
       "    <tr>\n",
       "      <td>2</td>\n",
       "      <td>0</td>\n",
       "      <td>11951.00</td>\n",
       "      <td>8791.750000</td>\n",
       "      <td>14048.350271</td>\n",
       "      <td>18</td>\n",
       "      <td>3764.460688</td>\n",
       "      <td>20</td>\n",
       "      <td>4351.00</td>\n",
       "      <td>2.0</td>\n",
       "      <td>0</td>\n",
       "      <td>0</td>\n",
       "      <td>1</td>\n",
       "      <td>1</td>\n",
       "    </tr>\n",
       "    <tr>\n",
       "      <td>3</td>\n",
       "      <td>0</td>\n",
       "      <td>28228.00</td>\n",
       "      <td>17154.150000</td>\n",
       "      <td>19346.000000</td>\n",
       "      <td>15</td>\n",
       "      <td>8721.644826</td>\n",
       "      <td>28</td>\n",
       "      <td>25000.00</td>\n",
       "      <td>1.0</td>\n",
       "      <td>0</td>\n",
       "      <td>0</td>\n",
       "      <td>0</td>\n",
       "      <td>1</td>\n",
       "    </tr>\n",
       "    <tr>\n",
       "      <td>4</td>\n",
       "      <td>0</td>\n",
       "      <td>8770.00</td>\n",
       "      <td>775.000000</td>\n",
       "      <td>0.000000</td>\n",
       "      <td>0</td>\n",
       "      <td>0.000000</td>\n",
       "      <td>22</td>\n",
       "      <td>12647.00</td>\n",
       "      <td>1.0</td>\n",
       "      <td>0</td>\n",
       "      <td>0</td>\n",
       "      <td>0</td>\n",
       "      <td>1</td>\n",
       "    </tr>\n",
       "  </tbody>\n",
       "</table>\n",
       "</div>"
      ],
      "text/plain": [
       "   bad_var  Net_debits_last_1_month  Net_credits_last_1_month  \\\n",
       "0        1                   589.26               2998.000000   \n",
       "1        0                  9700.00               9678.138141   \n",
       "2        0                 11951.00               8791.750000   \n",
       "3        0                 28228.00              17154.150000   \n",
       "4        0                  8770.00                775.000000   \n",
       "\n",
       "   Balance_of_outstanding_loans_last_1_month  loan_enquiries_last_1_month  \\\n",
       "0                                   0.000000                            0   \n",
       "1                               89201.000000                            4   \n",
       "2                               14048.350271                           18   \n",
       "3                               19346.000000                           15   \n",
       "4                                   0.000000                            0   \n",
       "\n",
       "   overdue_on_outstanding_loans_last_1_month  age  monthly_salary  \\\n",
       "0                                   0.000000   24        25452.86   \n",
       "1                                   0.000000   43        11000.00   \n",
       "2                                3764.460688   20         4351.00   \n",
       "3                                8721.644826   28        25000.00   \n",
       "4                                   0.000000   22        12647.00   \n",
       "\n",
       "   number_of_bank_accounts  married_indicator  day_of_application  \\\n",
       "0                      1.0                  0                   0   \n",
       "1                      1.0                  0                   0   \n",
       "2                      2.0                  0                   0   \n",
       "3                      1.0                  0                   0   \n",
       "4                      1.0                  0                   0   \n",
       "\n",
       "   levelofeducation_v1  state  \n",
       "0                    0      0  \n",
       "1                    1      0  \n",
       "2                    1      1  \n",
       "3                    0      1  \n",
       "4                    0      1  "
      ]
     },
     "execution_count": 32,
     "metadata": {},
     "output_type": "execute_result"
    }
   ],
   "source": [
    "dataset.head()"
   ]
  },
  {
   "cell_type": "code",
   "execution_count": 33,
   "metadata": {},
   "outputs": [
    {
     "data": {
      "text/plain": [
       "(579, 13)"
      ]
     },
     "execution_count": 33,
     "metadata": {},
     "output_type": "execute_result"
    }
   ],
   "source": [
    "dataset.shape"
   ]
  },
  {
   "cell_type": "markdown",
   "metadata": {},
   "source": [
    "### Outlier Treatment"
   ]
  },
  {
   "cell_type": "code",
   "execution_count": 34,
   "metadata": {},
   "outputs": [],
   "source": [
    "dataset=dataset.astype(float)\n",
    "dataset[dataset==np.inf]=np.nan"
   ]
  },
  {
   "cell_type": "code",
   "execution_count": 35,
   "metadata": {},
   "outputs": [],
   "source": [
    "def outlier(column_name,cap,cup):\n",
    "    cap1 = dataset[column_name].quantile(cap).astype(float)\n",
    "    dataset[column_name].values[dataset[column_name] > dataset[column_name].quantile(cap)] = np.nan\n",
    "    dataset[column_name].fillna(cap1,inplace=True)\n",
    "    \n",
    "    cup1 = dataset[column_name].quantile(cup).astype(float)\n",
    "    dataset[column_name].values[dataset[column_name] < dataset[column_name].quantile(cup)] = np.nan\n",
    "    dataset[column_name].fillna(cup1,inplace=True,)\n"
   ]
  },
  {
   "cell_type": "code",
   "execution_count": 36,
   "metadata": {
    "scrolled": true
   },
   "outputs": [
    {
     "data": {
      "text/plain": [
       "<matplotlib.axes._subplots.AxesSubplot at 0x1a1e0e4f10>"
      ]
     },
     "execution_count": 36,
     "metadata": {},
     "output_type": "execute_result"
    },
    {
     "data": {
      "image/png": "[encoded data removed]",
      "text/plain": [
       "<Figure size 432x288 with 1 Axes>"
      ]
     },
     "metadata": {
      "needs_background": "light"
     },
     "output_type": "display_data"
    }
   ],
   "source": [
    "sqs.boxplot(dataset['Net_debits_last_1_month'])"
   ]
  },
  {
   "cell_type": "code",
   "execution_count": 37,
   "metadata": {},
   "outputs": [
    {
     "data": {
      "text/plain": [
       "<matplotlib.axes._subplots.AxesSubplot at 0x1a1e81a490>"
      ]
     },
     "execution_count": 37,
     "metadata": {},
     "output_type": "execute_result"
    },
    {
     "data": {
      "image/png": "[encoded data removed]",
      "text/plain": [
       "<Figure size 432x288 with 1 Axes>"
      ]
     },
     "metadata": {
      "needs_background": "light"
     },
     "output_type": "display_data"
    }
   ],
   "source": [
    "outlier('Net_debits_last_1_month',0.99,0.01)\n",
    "sqs.boxplot(dataset['Net_debits_last_1_month'])"
   ]
  },
  {
   "cell_type": "code",
   "execution_count": 38,
   "metadata": {
    "scrolled": false
   },
   "outputs": [
    {
     "data": {
      "text/plain": [
       "<matplotlib.axes._subplots.AxesSubplot at 0x1a1e921050>"
      ]
     },
     "execution_count": 38,
     "metadata": {},
     "output_type": "execute_result"
    },
    {
     "data": {
      "image/png": "[encoded data removed]",
      "text/plain": [
       "<Figure size 432x288 with 1 Axes>"
      ]
     },
     "metadata": {
      "needs_background": "light"
     },
     "output_type": "display_data"
    }
   ],
   "source": [
    "sqs.boxplot(dataset['Net_credits_last_1_month'])"
   ]
  },
  {
   "cell_type": "code",
   "execution_count": 39,
   "metadata": {},
   "outputs": [
    {
     "data": {
      "text/plain": [
       "<matplotlib.axes._subplots.AxesSubplot at 0x1a1e9ffc50>"
      ]
     },
     "execution_count": 39,
     "metadata": {},
     "output_type": "execute_result"
    },
    {
     "data": {
      "image/png": "[encoded data removed]",
      "text/plain": [
       "<Figure size 432x288 with 1 Axes>"
      ]
     },
     "metadata": {
      "needs_background": "light"
     },
     "output_type": "display_data"
    }
   ],
   "source": [
    "outlier('Net_credits_last_1_month',0.99,0.01)\n",
    "sqs.boxplot(dataset['Net_credits_last_1_month'])"
   ]
  },
  {
   "cell_type": "code",
   "execution_count": 40,
   "metadata": {
    "scrolled": true
   },
   "outputs": [
    {
     "data": {
      "text/plain": [
       "<matplotlib.axes._subplots.AxesSubplot at 0x1a1ead9710>"
      ]
     },
     "execution_count": 40,
     "metadata": {},
     "output_type": "execute_result"
    },
    {
     "data": {
      "image/png": "[encoded data removed]",
      "text/plain": [
       "<Figure size 432x288 with 1 Axes>"
      ]
     },
     "metadata": {
      "needs_background": "light"
     },
     "output_type": "display_data"
    }
   ],
   "source": [
    "sqs.boxplot(dataset['Balance_of_outstanding_loans_last_1_month'])"
   ]
  },
  {
   "cell_type": "code",
   "execution_count": 41,
   "metadata": {},
   "outputs": [
    {
     "data": {
      "text/plain": [
       "<matplotlib.axes._subplots.AxesSubplot at 0x1a1ebb6c90>"
      ]
     },
     "execution_count": 41,
     "metadata": {},
     "output_type": "execute_result"
    },
    {
     "data": {
      "image/png": "[encoded data removed]",
      "text/plain": [
       "<Figure size 432x288 with 1 Axes>"
      ]
     },
     "metadata": {
      "needs_background": "light"
     },
     "output_type": "display_data"
    }
   ],
   "source": [
    "outlier('Balance_of_outstanding_loans_last_1_month',0.98,0.01)\n",
    "sqs.boxplot(dataset['Balance_of_outstanding_loans_last_1_month'])"
   ]
  },
  {
   "cell_type": "code",
   "execution_count": null,
   "metadata": {},
   "outputs": [],
   "source": []
  },
  {
   "cell_type": "code",
   "execution_count": 42,
   "metadata": {
    "scrolled": true
   },
   "outputs": [
    {
     "data": {
      "text/plain": [
       "<matplotlib.axes._subplots.AxesSubplot at 0x1a1dd19890>"
      ]
     },
     "execution_count": 42,
     "metadata": {},
     "output_type": "execute_result"
    },
    {
     "data": {
      "image/png": "[encoded data removed]",
      "text/plain": [
       "<Figure size 432x288 with 1 Axes>"
      ]
     },
     "metadata": {
      "needs_background": "light"
     },
     "output_type": "display_data"
    }
   ],
   "source": [
    "sqs.boxplot(dataset['loan_enquiries_last_1_month'])"
   ]
  },
  {
   "cell_type": "code",
   "execution_count": 43,
   "metadata": {},
   "outputs": [
    {
     "data": {
      "text/plain": [
       "<matplotlib.axes._subplots.AxesSubplot at 0x1a1ed14910>"
      ]
     },
     "execution_count": 43,
     "metadata": {},
     "output_type": "execute_result"
    },
    {
     "data": {
      "image/png": "[encoded data removed]",
      "text/plain": [
       "<Figure size 432x288 with 1 Axes>"
      ]
     },
     "metadata": {
      "needs_background": "light"
     },
     "output_type": "display_data"
    }
   ],
   "source": [
    "outlier('loan_enquiries_last_1_month',0.99,0.01)\n",
    "sqs.boxplot(dataset['loan_enquiries_last_1_month'])"
   ]
  },
  {
   "cell_type": "code",
   "execution_count": null,
   "metadata": {},
   "outputs": [],
   "source": []
  },
  {
   "cell_type": "code",
   "execution_count": 44,
   "metadata": {
    "scrolled": false
   },
   "outputs": [
    {
     "data": {
      "text/plain": [
       "<matplotlib.axes._subplots.AxesSubplot at 0x1a1ede8490>"
      ]
     },
     "execution_count": 44,
     "metadata": {},
     "output_type": "execute_result"
    },
    {
     "data": {
      "image/png": "[encoded data removed]",
      "text/plain": [
       "<Figure size 432x288 with 1 Axes>"
      ]
     },
     "metadata": {
      "needs_background": "light"
     },
     "output_type": "display_data"
    }
   ],
   "source": [
    "sqs.boxplot(dataset['overdue_on_outstanding_loans_last_1_month'])"
   ]
  },
  {
   "cell_type": "code",
   "execution_count": 45,
   "metadata": {
    "scrolled": true
   },
   "outputs": [
    {
     "data": {
      "text/plain": [
       "<matplotlib.axes._subplots.AxesSubplot at 0x1a1eec4790>"
      ]
     },
     "execution_count": 45,
     "metadata": {},
     "output_type": "execute_result"
    },
    {
     "data": {
      "image/png": "[encoded data removed]",
      "text/plain": [
       "<Figure size 432x288 with 1 Axes>"
      ]
     },
     "metadata": {
      "needs_background": "light"
     },
     "output_type": "display_data"
    }
   ],
   "source": [
    "outlier('overdue_on_outstanding_loans_last_1_month',0.99,0.01)\n",
    "sqs.boxplot(dataset['overdue_on_outstanding_loans_last_1_month'])"
   ]
  },
  {
   "cell_type": "code",
   "execution_count": null,
   "metadata": {},
   "outputs": [],
   "source": []
  },
  {
   "cell_type": "code",
   "execution_count": 46,
   "metadata": {
    "scrolled": false
   },
   "outputs": [
    {
     "data": {
      "text/plain": [
       "<matplotlib.axes._subplots.AxesSubplot at 0x1a1ef991d0>"
      ]
     },
     "execution_count": 46,
     "metadata": {},
     "output_type": "execute_result"
    },
    {
     "data": {
      "image/png": "[encoded data removed]",
      "text/plain": [
       "<Figure size 432x288 with 1 Axes>"
      ]
     },
     "metadata": {
      "needs_background": "light"
     },
     "output_type": "display_data"
    }
   ],
   "source": [
    "sqs.boxplot(dataset['age'])"
   ]
  },
  {
   "cell_type": "code",
   "execution_count": 47,
   "metadata": {},
   "outputs": [
    {
     "data": {
      "text/plain": [
       "<matplotlib.axes._subplots.AxesSubplot at 0x1a1f077dd0>"
      ]
     },
     "execution_count": 47,
     "metadata": {},
     "output_type": "execute_result"
    },
    {
     "data": {
      "image/png": "[encoded data removed]",
      "text/plain": [
       "<Figure size 432x288 with 1 Axes>"
      ]
     },
     "metadata": {
      "needs_background": "light"
     },
     "output_type": "display_data"
    }
   ],
   "source": [
    "outlier('age',0.99,0.01)\n",
    "sqs.boxplot(dataset['age'])"
   ]
  },
  {
   "cell_type": "code",
   "execution_count": null,
   "metadata": {},
   "outputs": [],
   "source": []
  },
  {
   "cell_type": "code",
   "execution_count": 48,
   "metadata": {
    "scrolled": true
   },
   "outputs": [
    {
     "data": {
      "text/plain": [
       "<matplotlib.axes._subplots.AxesSubplot at 0x1a1f0ba310>"
      ]
     },
     "execution_count": 48,
     "metadata": {},
     "output_type": "execute_result"
    },
    {
     "data": {
      "image/png": "[encoded data removed]",
      "text/plain": [
       "<Figure size 432x288 with 1 Axes>"
      ]
     },
     "metadata": {
      "needs_background": "light"
     },
     "output_type": "display_data"
    }
   ],
   "source": [
    "sqs.boxplot(dataset['monthly_salary'])"
   ]
  },
  {
   "cell_type": "code",
   "execution_count": 49,
   "metadata": {
    "scrolled": true
   },
   "outputs": [
    {
     "data": {
      "text/plain": [
       "<matplotlib.axes._subplots.AxesSubplot at 0x1a1f21cb50>"
      ]
     },
     "execution_count": 49,
     "metadata": {},
     "output_type": "execute_result"
    },
    {
     "data": {
      "image/png": "[encoded data removed]",
      "text/plain": [
       "<Figure size 432x288 with 1 Axes>"
      ]
     },
     "metadata": {
      "needs_background": "light"
     },
     "output_type": "display_data"
    }
   ],
   "source": [
    "outlier('monthly_salary',0.99,0.01)\n",
    "sqs.boxplot(dataset['monthly_salary'])"
   ]
  },
  {
   "cell_type": "markdown",
   "metadata": {},
   "source": [
    "Rest of the variables are categorical and has been gone through required treatment"
   ]
  },
  {
   "cell_type": "markdown",
   "metadata": {},
   "source": [
    "### Generation of Secondary Variables\n",
    "\n",
    "#### 1. Debt-to-credit Ratio or Credit Utilization Ratio or balance-to-limit ratio:\n",
    "    1. One of the factors used to compute your credit score. A higher ratio means a lower credit score.\n",
    "\n",
    "#### 2. Overdue ratio : \n",
    "\n",
    "    1. If 5% is a good performance, 30% for example is not one (30% of late payments is particularly high) and indicates that you have some progress to do in your customer reminders, either qualitatively (application of the recovery process) or quantitatively (regular reminders).\n",
    "\n",
    "    2. The goal is to have a ratio that tends to \"0%\", indicating that your customers pay you exactly at the due date of your bills and that you don’t have to report any late payment."
   ]
  },
  {
   "cell_type": "code",
   "execution_count": 50,
   "metadata": {},
   "outputs": [],
   "source": [
    "dataset['debt_to_credit_ratio'] = dataset['Net_debits_last_1_month']/dataset['Net_credits_last_1_month']\n",
    "dataset['debt_to_credit_ratio'] = dataset['debt_to_credit_ratio'].replace(np.NaN,0) # Taking care of 0/0\n",
    "dataset['debt_to_credit_ratio'] = dataset['debt_to_credit_ratio'].replace(np.inf,0)"
   ]
  },
  {
   "cell_type": "code",
   "execution_count": 51,
   "metadata": {},
   "outputs": [
    {
     "data": {
      "text/html": [
       "<div>\n",
       "<style scoped>\n",
       "    .dataframe tbody tr th:only-of-type {\n",
       "        vertical-align: middle;\n",
       "    }\n",
       "\n",
       "    .dataframe tbody tr th {\n",
       "        vertical-align: top;\n",
       "    }\n",
       "\n",
       "    .dataframe thead th {\n",
       "        text-align: right;\n",
       "    }\n",
       "</style>\n",
       "<table border=\"1\" class=\"dataframe\">\n",
       "  <thead>\n",
       "    <tr style=\"text-align: right;\">\n",
       "      <th></th>\n",
       "      <th>bad_var</th>\n",
       "      <th>Net_debits_last_1_month</th>\n",
       "      <th>Net_credits_last_1_month</th>\n",
       "      <th>Balance_of_outstanding_loans_last_1_month</th>\n",
       "      <th>loan_enquiries_last_1_month</th>\n",
       "      <th>overdue_on_outstanding_loans_last_1_month</th>\n",
       "      <th>age</th>\n",
       "      <th>monthly_salary</th>\n",
       "      <th>number_of_bank_accounts</th>\n",
       "      <th>married_indicator</th>\n",
       "      <th>day_of_application</th>\n",
       "      <th>levelofeducation_v1</th>\n",
       "      <th>state</th>\n",
       "      <th>debt_to_credit_ratio</th>\n",
       "    </tr>\n",
       "  </thead>\n",
       "  <tbody>\n",
       "    <tr>\n",
       "      <td>0</td>\n",
       "      <td>1.0</td>\n",
       "      <td>589.26</td>\n",
       "      <td>2998.000000</td>\n",
       "      <td>0.000000</td>\n",
       "      <td>0.0</td>\n",
       "      <td>0.000000</td>\n",
       "      <td>24.0</td>\n",
       "      <td>25452.86</td>\n",
       "      <td>1.0</td>\n",
       "      <td>0.0</td>\n",
       "      <td>0.0</td>\n",
       "      <td>0.0</td>\n",
       "      <td>0.0</td>\n",
       "      <td>0.196551</td>\n",
       "    </tr>\n",
       "    <tr>\n",
       "      <td>1</td>\n",
       "      <td>0.0</td>\n",
       "      <td>9700.00</td>\n",
       "      <td>9678.138141</td>\n",
       "      <td>80306.680000</td>\n",
       "      <td>4.0</td>\n",
       "      <td>0.000000</td>\n",
       "      <td>43.0</td>\n",
       "      <td>11000.00</td>\n",
       "      <td>1.0</td>\n",
       "      <td>0.0</td>\n",
       "      <td>0.0</td>\n",
       "      <td>1.0</td>\n",
       "      <td>0.0</td>\n",
       "      <td>1.002259</td>\n",
       "    </tr>\n",
       "    <tr>\n",
       "      <td>2</td>\n",
       "      <td>0.0</td>\n",
       "      <td>11951.00</td>\n",
       "      <td>8791.750000</td>\n",
       "      <td>14048.350271</td>\n",
       "      <td>18.0</td>\n",
       "      <td>3764.460688</td>\n",
       "      <td>20.0</td>\n",
       "      <td>4351.00</td>\n",
       "      <td>2.0</td>\n",
       "      <td>0.0</td>\n",
       "      <td>0.0</td>\n",
       "      <td>1.0</td>\n",
       "      <td>1.0</td>\n",
       "      <td>1.359343</td>\n",
       "    </tr>\n",
       "    <tr>\n",
       "      <td>3</td>\n",
       "      <td>0.0</td>\n",
       "      <td>28228.00</td>\n",
       "      <td>17154.150000</td>\n",
       "      <td>19346.000000</td>\n",
       "      <td>15.0</td>\n",
       "      <td>8721.644826</td>\n",
       "      <td>28.0</td>\n",
       "      <td>25000.00</td>\n",
       "      <td>1.0</td>\n",
       "      <td>0.0</td>\n",
       "      <td>0.0</td>\n",
       "      <td>0.0</td>\n",
       "      <td>1.0</td>\n",
       "      <td>1.645549</td>\n",
       "    </tr>\n",
       "    <tr>\n",
       "      <td>4</td>\n",
       "      <td>0.0</td>\n",
       "      <td>8770.00</td>\n",
       "      <td>775.000000</td>\n",
       "      <td>0.000000</td>\n",
       "      <td>0.0</td>\n",
       "      <td>0.000000</td>\n",
       "      <td>22.0</td>\n",
       "      <td>12647.00</td>\n",
       "      <td>1.0</td>\n",
       "      <td>0.0</td>\n",
       "      <td>0.0</td>\n",
       "      <td>0.0</td>\n",
       "      <td>1.0</td>\n",
       "      <td>11.316129</td>\n",
       "    </tr>\n",
       "  </tbody>\n",
       "</table>\n",
       "</div>"
      ],
      "text/plain": [
       "   bad_var  Net_debits_last_1_month  Net_credits_last_1_month  \\\n",
       "0      1.0                   589.26               2998.000000   \n",
       "1      0.0                  9700.00               9678.138141   \n",
       "2      0.0                 11951.00               8791.750000   \n",
       "3      0.0                 28228.00              17154.150000   \n",
       "4      0.0                  8770.00                775.000000   \n",
       "\n",
       "   Balance_of_outstanding_loans_last_1_month  loan_enquiries_last_1_month  \\\n",
       "0                                   0.000000                          0.0   \n",
       "1                               80306.680000                          4.0   \n",
       "2                               14048.350271                         18.0   \n",
       "3                               19346.000000                         15.0   \n",
       "4                                   0.000000                          0.0   \n",
       "\n",
       "   overdue_on_outstanding_loans_last_1_month   age  monthly_salary  \\\n",
       "0                                   0.000000  24.0        25452.86   \n",
       "1                                   0.000000  43.0        11000.00   \n",
       "2                                3764.460688  20.0         4351.00   \n",
       "3                                8721.644826  28.0        25000.00   \n",
       "4                                   0.000000  22.0        12647.00   \n",
       "\n",
       "   number_of_bank_accounts  married_indicator  day_of_application  \\\n",
       "0                      1.0                0.0                 0.0   \n",
       "1                      1.0                0.0                 0.0   \n",
       "2                      2.0                0.0                 0.0   \n",
       "3                      1.0                0.0                 0.0   \n",
       "4                      1.0                0.0                 0.0   \n",
       "\n",
       "   levelofeducation_v1  state  debt_to_credit_ratio  \n",
       "0                  0.0    0.0              0.196551  \n",
       "1                  1.0    0.0              1.002259  \n",
       "2                  1.0    1.0              1.359343  \n",
       "3                  0.0    1.0              1.645549  \n",
       "4                  0.0    1.0             11.316129  "
      ]
     },
     "execution_count": 51,
     "metadata": {},
     "output_type": "execute_result"
    }
   ],
   "source": [
    "dataset.head()"
   ]
  },
  {
   "cell_type": "code",
   "execution_count": 52,
   "metadata": {},
   "outputs": [],
   "source": [
    "dataset['Overdue_ratio'] = dataset['overdue_on_outstanding_loans_last_1_month']/dataset['Balance_of_outstanding_loans_last_1_month']\n",
    "dataset['Overdue_ratio'] = dataset['Overdue_ratio'].replace(np.NaN,0) # Taking care of 0/0\n",
    "dataset['Overdue_ratio'] = dataset['Overdue_ratio'].replace(np.inf,0)"
   ]
  },
  {
   "cell_type": "code",
   "execution_count": 53,
   "metadata": {
    "scrolled": false
   },
   "outputs": [
    {
     "data": {
      "text/html": [
       "<div>\n",
       "<style scoped>\n",
       "    .dataframe tbody tr th:only-of-type {\n",
       "        vertical-align: middle;\n",
       "    }\n",
       "\n",
       "    .dataframe tbody tr th {\n",
       "        vertical-align: top;\n",
       "    }\n",
       "\n",
       "    .dataframe thead th {\n",
       "        text-align: right;\n",
       "    }\n",
       "</style>\n",
       "<table border=\"1\" class=\"dataframe\">\n",
       "  <thead>\n",
       "    <tr style=\"text-align: right;\">\n",
       "      <th></th>\n",
       "      <th>bad_var</th>\n",
       "      <th>Net_debits_last_1_month</th>\n",
       "      <th>Net_credits_last_1_month</th>\n",
       "      <th>Balance_of_outstanding_loans_last_1_month</th>\n",
       "      <th>loan_enquiries_last_1_month</th>\n",
       "      <th>overdue_on_outstanding_loans_last_1_month</th>\n",
       "      <th>age</th>\n",
       "      <th>monthly_salary</th>\n",
       "      <th>number_of_bank_accounts</th>\n",
       "      <th>married_indicator</th>\n",
       "      <th>day_of_application</th>\n",
       "      <th>levelofeducation_v1</th>\n",
       "      <th>state</th>\n",
       "      <th>debt_to_credit_ratio</th>\n",
       "      <th>Overdue_ratio</th>\n",
       "    </tr>\n",
       "  </thead>\n",
       "  <tbody>\n",
       "    <tr>\n",
       "      <td>0</td>\n",
       "      <td>1.0</td>\n",
       "      <td>589.26</td>\n",
       "      <td>2998.000000</td>\n",
       "      <td>0.000000</td>\n",
       "      <td>0.0</td>\n",
       "      <td>0.000000</td>\n",
       "      <td>24.0</td>\n",
       "      <td>25452.86</td>\n",
       "      <td>1.0</td>\n",
       "      <td>0.0</td>\n",
       "      <td>0.0</td>\n",
       "      <td>0.0</td>\n",
       "      <td>0.0</td>\n",
       "      <td>0.196551</td>\n",
       "      <td>0.000000</td>\n",
       "    </tr>\n",
       "    <tr>\n",
       "      <td>1</td>\n",
       "      <td>0.0</td>\n",
       "      <td>9700.00</td>\n",
       "      <td>9678.138141</td>\n",
       "      <td>80306.680000</td>\n",
       "      <td>4.0</td>\n",
       "      <td>0.000000</td>\n",
       "      <td>43.0</td>\n",
       "      <td>11000.00</td>\n",
       "      <td>1.0</td>\n",
       "      <td>0.0</td>\n",
       "      <td>0.0</td>\n",
       "      <td>1.0</td>\n",
       "      <td>0.0</td>\n",
       "      <td>1.002259</td>\n",
       "      <td>0.000000</td>\n",
       "    </tr>\n",
       "    <tr>\n",
       "      <td>2</td>\n",
       "      <td>0.0</td>\n",
       "      <td>11951.00</td>\n",
       "      <td>8791.750000</td>\n",
       "      <td>14048.350271</td>\n",
       "      <td>18.0</td>\n",
       "      <td>3764.460688</td>\n",
       "      <td>20.0</td>\n",
       "      <td>4351.00</td>\n",
       "      <td>2.0</td>\n",
       "      <td>0.0</td>\n",
       "      <td>0.0</td>\n",
       "      <td>1.0</td>\n",
       "      <td>1.0</td>\n",
       "      <td>1.359343</td>\n",
       "      <td>0.267965</td>\n",
       "    </tr>\n",
       "    <tr>\n",
       "      <td>3</td>\n",
       "      <td>0.0</td>\n",
       "      <td>28228.00</td>\n",
       "      <td>17154.150000</td>\n",
       "      <td>19346.000000</td>\n",
       "      <td>15.0</td>\n",
       "      <td>8721.644826</td>\n",
       "      <td>28.0</td>\n",
       "      <td>25000.00</td>\n",
       "      <td>1.0</td>\n",
       "      <td>0.0</td>\n",
       "      <td>0.0</td>\n",
       "      <td>0.0</td>\n",
       "      <td>1.0</td>\n",
       "      <td>1.645549</td>\n",
       "      <td>0.450824</td>\n",
       "    </tr>\n",
       "    <tr>\n",
       "      <td>4</td>\n",
       "      <td>0.0</td>\n",
       "      <td>8770.00</td>\n",
       "      <td>775.000000</td>\n",
       "      <td>0.000000</td>\n",
       "      <td>0.0</td>\n",
       "      <td>0.000000</td>\n",
       "      <td>22.0</td>\n",
       "      <td>12647.00</td>\n",
       "      <td>1.0</td>\n",
       "      <td>0.0</td>\n",
       "      <td>0.0</td>\n",
       "      <td>0.0</td>\n",
       "      <td>1.0</td>\n",
       "      <td>11.316129</td>\n",
       "      <td>0.000000</td>\n",
       "    </tr>\n",
       "  </tbody>\n",
       "</table>\n",
       "</div>"
      ],
      "text/plain": [
       "   bad_var  Net_debits_last_1_month  Net_credits_last_1_month  \\\n",
       "0      1.0                   589.26               2998.000000   \n",
       "1      0.0                  9700.00               9678.138141   \n",
       "2      0.0                 11951.00               8791.750000   \n",
       "3      0.0                 28228.00              17154.150000   \n",
       "4      0.0                  8770.00                775.000000   \n",
       "\n",
       "   Balance_of_outstanding_loans_last_1_month  loan_enquiries_last_1_month  \\\n",
       "0                                   0.000000                          0.0   \n",
       "1                               80306.680000                          4.0   \n",
       "2                               14048.350271                         18.0   \n",
       "3                               19346.000000                         15.0   \n",
       "4                                   0.000000                          0.0   \n",
       "\n",
       "   overdue_on_outstanding_loans_last_1_month   age  monthly_salary  \\\n",
       "0                                   0.000000  24.0        25452.86   \n",
       "1                                   0.000000  43.0        11000.00   \n",
       "2                                3764.460688  20.0         4351.00   \n",
       "3                                8721.644826  28.0        25000.00   \n",
       "4                                   0.000000  22.0        12647.00   \n",
       "\n",
       "   number_of_bank_accounts  married_indicator  day_of_application  \\\n",
       "0                      1.0                0.0                 0.0   \n",
       "1                      1.0                0.0                 0.0   \n",
       "2                      2.0                0.0                 0.0   \n",
       "3                      1.0                0.0                 0.0   \n",
       "4                      1.0                0.0                 0.0   \n",
       "\n",
       "   levelofeducation_v1  state  debt_to_credit_ratio  Overdue_ratio  \n",
       "0                  0.0    0.0              0.196551       0.000000  \n",
       "1                  1.0    0.0              1.002259       0.000000  \n",
       "2                  1.0    1.0              1.359343       0.267965  \n",
       "3                  0.0    1.0              1.645549       0.450824  \n",
       "4                  0.0    1.0             11.316129       0.000000  "
      ]
     },
     "execution_count": 53,
     "metadata": {},
     "output_type": "execute_result"
    }
   ],
   "source": [
    "dataset.head()"
   ]
  },
  {
   "cell_type": "markdown",
   "metadata": {},
   "source": [
    "##### Undersampling"
   ]
  },
  {
   "cell_type": "code",
   "execution_count": 54,
   "metadata": {},
   "outputs": [],
   "source": [
    "df0 = dataset[dataset['bad_var']==0]\n",
    "df1 = dataset[dataset['bad_var']==1]"
   ]
  },
  {
   "cell_type": "code",
   "execution_count": 55,
   "metadata": {
    "scrolled": true
   },
   "outputs": [],
   "source": [
    "df0 = df0[:224]"
   ]
  },
  {
   "cell_type": "code",
   "execution_count": 56,
   "metadata": {},
   "outputs": [
    {
     "data": {
      "text/plain": [
       "bad_var                                      224\n",
       "Net_debits_last_1_month                      224\n",
       "Net_credits_last_1_month                     224\n",
       "Balance_of_outstanding_loans_last_1_month    224\n",
       "loan_enquiries_last_1_month                  224\n",
       "overdue_on_outstanding_loans_last_1_month    224\n",
       "age                                          224\n",
       "monthly_salary                               224\n",
       "number_of_bank_accounts                      224\n",
       "married_indicator                            224\n",
       "day_of_application                           224\n",
       "levelofeducation_v1                          224\n",
       "state                                        224\n",
       "debt_to_credit_ratio                         224\n",
       "Overdue_ratio                                224\n",
       "dtype: int64"
      ]
     },
     "execution_count": 56,
     "metadata": {},
     "output_type": "execute_result"
    }
   ],
   "source": [
    "df1.count()"
   ]
  },
  {
   "cell_type": "code",
   "execution_count": 57,
   "metadata": {},
   "outputs": [],
   "source": [
    "dataset = pd.concat([df0,df1])"
   ]
  },
  {
   "cell_type": "code",
   "execution_count": 58,
   "metadata": {},
   "outputs": [
    {
     "data": {
      "text/html": [
       "<div>\n",
       "<style scoped>\n",
       "    .dataframe tbody tr th:only-of-type {\n",
       "        vertical-align: middle;\n",
       "    }\n",
       "\n",
       "    .dataframe tbody tr th {\n",
       "        vertical-align: top;\n",
       "    }\n",
       "\n",
       "    .dataframe thead th {\n",
       "        text-align: right;\n",
       "    }\n",
       "</style>\n",
       "<table border=\"1\" class=\"dataframe\">\n",
       "  <thead>\n",
       "    <tr style=\"text-align: right;\">\n",
       "      <th></th>\n",
       "      <th>bad_var</th>\n",
       "      <th>Net_debits_last_1_month</th>\n",
       "      <th>Net_credits_last_1_month</th>\n",
       "      <th>Balance_of_outstanding_loans_last_1_month</th>\n",
       "      <th>loan_enquiries_last_1_month</th>\n",
       "      <th>overdue_on_outstanding_loans_last_1_month</th>\n",
       "      <th>age</th>\n",
       "      <th>monthly_salary</th>\n",
       "      <th>number_of_bank_accounts</th>\n",
       "      <th>married_indicator</th>\n",
       "      <th>day_of_application</th>\n",
       "      <th>levelofeducation_v1</th>\n",
       "      <th>state</th>\n",
       "      <th>debt_to_credit_ratio</th>\n",
       "      <th>Overdue_ratio</th>\n",
       "    </tr>\n",
       "  </thead>\n",
       "  <tbody>\n",
       "    <tr>\n",
       "      <td>1</td>\n",
       "      <td>0.0</td>\n",
       "      <td>9700.0</td>\n",
       "      <td>9678.138141</td>\n",
       "      <td>80306.680000</td>\n",
       "      <td>4.0</td>\n",
       "      <td>0.000000</td>\n",
       "      <td>43.0</td>\n",
       "      <td>11000.0</td>\n",
       "      <td>1.0</td>\n",
       "      <td>0.0</td>\n",
       "      <td>0.0</td>\n",
       "      <td>1.0</td>\n",
       "      <td>0.0</td>\n",
       "      <td>1.002259</td>\n",
       "      <td>0.000000</td>\n",
       "    </tr>\n",
       "    <tr>\n",
       "      <td>2</td>\n",
       "      <td>0.0</td>\n",
       "      <td>11951.0</td>\n",
       "      <td>8791.750000</td>\n",
       "      <td>14048.350271</td>\n",
       "      <td>18.0</td>\n",
       "      <td>3764.460688</td>\n",
       "      <td>20.0</td>\n",
       "      <td>4351.0</td>\n",
       "      <td>2.0</td>\n",
       "      <td>0.0</td>\n",
       "      <td>0.0</td>\n",
       "      <td>1.0</td>\n",
       "      <td>1.0</td>\n",
       "      <td>1.359343</td>\n",
       "      <td>0.267965</td>\n",
       "    </tr>\n",
       "    <tr>\n",
       "      <td>3</td>\n",
       "      <td>0.0</td>\n",
       "      <td>28228.0</td>\n",
       "      <td>17154.150000</td>\n",
       "      <td>19346.000000</td>\n",
       "      <td>15.0</td>\n",
       "      <td>8721.644826</td>\n",
       "      <td>28.0</td>\n",
       "      <td>25000.0</td>\n",
       "      <td>1.0</td>\n",
       "      <td>0.0</td>\n",
       "      <td>0.0</td>\n",
       "      <td>0.0</td>\n",
       "      <td>1.0</td>\n",
       "      <td>1.645549</td>\n",
       "      <td>0.450824</td>\n",
       "    </tr>\n",
       "    <tr>\n",
       "      <td>4</td>\n",
       "      <td>0.0</td>\n",
       "      <td>8770.0</td>\n",
       "      <td>775.000000</td>\n",
       "      <td>0.000000</td>\n",
       "      <td>0.0</td>\n",
       "      <td>0.000000</td>\n",
       "      <td>22.0</td>\n",
       "      <td>12647.0</td>\n",
       "      <td>1.0</td>\n",
       "      <td>0.0</td>\n",
       "      <td>0.0</td>\n",
       "      <td>0.0</td>\n",
       "      <td>1.0</td>\n",
       "      <td>11.316129</td>\n",
       "      <td>0.000000</td>\n",
       "    </tr>\n",
       "    <tr>\n",
       "      <td>5</td>\n",
       "      <td>0.0</td>\n",
       "      <td>0.0</td>\n",
       "      <td>26920.000000</td>\n",
       "      <td>7688.000000</td>\n",
       "      <td>4.0</td>\n",
       "      <td>3474.017171</td>\n",
       "      <td>35.0</td>\n",
       "      <td>24470.0</td>\n",
       "      <td>2.0</td>\n",
       "      <td>0.0</td>\n",
       "      <td>0.0</td>\n",
       "      <td>1.0</td>\n",
       "      <td>1.0</td>\n",
       "      <td>0.000000</td>\n",
       "      <td>0.451875</td>\n",
       "    </tr>\n",
       "  </tbody>\n",
       "</table>\n",
       "</div>"
      ],
      "text/plain": [
       "   bad_var  Net_debits_last_1_month  Net_credits_last_1_month  \\\n",
       "1      0.0                   9700.0               9678.138141   \n",
       "2      0.0                  11951.0               8791.750000   \n",
       "3      0.0                  28228.0              17154.150000   \n",
       "4      0.0                   8770.0                775.000000   \n",
       "5      0.0                      0.0              26920.000000   \n",
       "\n",
       "   Balance_of_outstanding_loans_last_1_month  loan_enquiries_last_1_month  \\\n",
       "1                               80306.680000                          4.0   \n",
       "2                               14048.350271                         18.0   \n",
       "3                               19346.000000                         15.0   \n",
       "4                                   0.000000                          0.0   \n",
       "5                                7688.000000                          4.0   \n",
       "\n",
       "   overdue_on_outstanding_loans_last_1_month   age  monthly_salary  \\\n",
       "1                                   0.000000  43.0         11000.0   \n",
       "2                                3764.460688  20.0          4351.0   \n",
       "3                                8721.644826  28.0         25000.0   \n",
       "4                                   0.000000  22.0         12647.0   \n",
       "5                                3474.017171  35.0         24470.0   \n",
       "\n",
       "   number_of_bank_accounts  married_indicator  day_of_application  \\\n",
       "1                      1.0                0.0                 0.0   \n",
       "2                      2.0                0.0                 0.0   \n",
       "3                      1.0                0.0                 0.0   \n",
       "4                      1.0                0.0                 0.0   \n",
       "5                      2.0                0.0                 0.0   \n",
       "\n",
       "   levelofeducation_v1  state  debt_to_credit_ratio  Overdue_ratio  \n",
       "1                  1.0    0.0              1.002259       0.000000  \n",
       "2                  1.0    1.0              1.359343       0.267965  \n",
       "3                  0.0    1.0              1.645549       0.450824  \n",
       "4                  0.0    1.0             11.316129       0.000000  \n",
       "5                  1.0    1.0              0.000000       0.451875  "
      ]
     },
     "execution_count": 58,
     "metadata": {},
     "output_type": "execute_result"
    }
   ],
   "source": [
    "dataset.head()"
   ]
  },
  {
   "cell_type": "code",
   "execution_count": 59,
   "metadata": {},
   "outputs": [],
   "source": [
    "from sklearn.utils import shuffle\n",
    "dataset = shuffle(dataset)"
   ]
  },
  {
   "cell_type": "code",
   "execution_count": 60,
   "metadata": {},
   "outputs": [
    {
     "data": {
      "text/html": [
       "<div>\n",
       "<style scoped>\n",
       "    .dataframe tbody tr th:only-of-type {\n",
       "        vertical-align: middle;\n",
       "    }\n",
       "\n",
       "    .dataframe tbody tr th {\n",
       "        vertical-align: top;\n",
       "    }\n",
       "\n",
       "    .dataframe thead th {\n",
       "        text-align: right;\n",
       "    }\n",
       "</style>\n",
       "<table border=\"1\" class=\"dataframe\">\n",
       "  <thead>\n",
       "    <tr style=\"text-align: right;\">\n",
       "      <th></th>\n",
       "      <th>bad_var</th>\n",
       "      <th>Net_debits_last_1_month</th>\n",
       "      <th>Net_credits_last_1_month</th>\n",
       "      <th>Balance_of_outstanding_loans_last_1_month</th>\n",
       "      <th>loan_enquiries_last_1_month</th>\n",
       "      <th>overdue_on_outstanding_loans_last_1_month</th>\n",
       "      <th>age</th>\n",
       "      <th>monthly_salary</th>\n",
       "      <th>number_of_bank_accounts</th>\n",
       "      <th>married_indicator</th>\n",
       "      <th>day_of_application</th>\n",
       "      <th>levelofeducation_v1</th>\n",
       "      <th>state</th>\n",
       "      <th>debt_to_credit_ratio</th>\n",
       "      <th>Overdue_ratio</th>\n",
       "    </tr>\n",
       "  </thead>\n",
       "  <tbody>\n",
       "    <tr>\n",
       "      <td>292</td>\n",
       "      <td>0.0</td>\n",
       "      <td>0.00</td>\n",
       "      <td>9678.138141</td>\n",
       "      <td>1000.00</td>\n",
       "      <td>0.0</td>\n",
       "      <td>0.000000</td>\n",
       "      <td>25.0</td>\n",
       "      <td>10500.0</td>\n",
       "      <td>1.0</td>\n",
       "      <td>0.0</td>\n",
       "      <td>0.0</td>\n",
       "      <td>1.0</td>\n",
       "      <td>0.0</td>\n",
       "      <td>0.000000</td>\n",
       "      <td>0.000000</td>\n",
       "    </tr>\n",
       "    <tr>\n",
       "      <td>70</td>\n",
       "      <td>1.0</td>\n",
       "      <td>35814.60</td>\n",
       "      <td>27451.000000</td>\n",
       "      <td>10881.00</td>\n",
       "      <td>2.0</td>\n",
       "      <td>474.469047</td>\n",
       "      <td>31.0</td>\n",
       "      <td>15731.0</td>\n",
       "      <td>3.0</td>\n",
       "      <td>0.0</td>\n",
       "      <td>0.0</td>\n",
       "      <td>1.0</td>\n",
       "      <td>0.0</td>\n",
       "      <td>1.304674</td>\n",
       "      <td>0.043605</td>\n",
       "    </tr>\n",
       "    <tr>\n",
       "      <td>57</td>\n",
       "      <td>0.0</td>\n",
       "      <td>28050.12</td>\n",
       "      <td>9678.138141</td>\n",
       "      <td>1251.62</td>\n",
       "      <td>6.0</td>\n",
       "      <td>139.005874</td>\n",
       "      <td>22.0</td>\n",
       "      <td>16000.0</td>\n",
       "      <td>3.0</td>\n",
       "      <td>0.0</td>\n",
       "      <td>0.0</td>\n",
       "      <td>0.0</td>\n",
       "      <td>1.0</td>\n",
       "      <td>2.898297</td>\n",
       "      <td>0.111061</td>\n",
       "    </tr>\n",
       "    <tr>\n",
       "      <td>391</td>\n",
       "      <td>1.0</td>\n",
       "      <td>0.00</td>\n",
       "      <td>0.000000</td>\n",
       "      <td>11254.00</td>\n",
       "      <td>3.0</td>\n",
       "      <td>5085.404428</td>\n",
       "      <td>23.0</td>\n",
       "      <td>9074.0</td>\n",
       "      <td>2.0</td>\n",
       "      <td>0.0</td>\n",
       "      <td>0.0</td>\n",
       "      <td>0.0</td>\n",
       "      <td>1.0</td>\n",
       "      <td>0.000000</td>\n",
       "      <td>0.451875</td>\n",
       "    </tr>\n",
       "    <tr>\n",
       "      <td>183</td>\n",
       "      <td>0.0</td>\n",
       "      <td>0.00</td>\n",
       "      <td>0.000000</td>\n",
       "      <td>3040.30</td>\n",
       "      <td>3.0</td>\n",
       "      <td>1373.836421</td>\n",
       "      <td>39.0</td>\n",
       "      <td>23304.0</td>\n",
       "      <td>1.0</td>\n",
       "      <td>0.0</td>\n",
       "      <td>0.0</td>\n",
       "      <td>1.0</td>\n",
       "      <td>1.0</td>\n",
       "      <td>0.000000</td>\n",
       "      <td>0.451875</td>\n",
       "    </tr>\n",
       "  </tbody>\n",
       "</table>\n",
       "</div>"
      ],
      "text/plain": [
       "     bad_var  Net_debits_last_1_month  Net_credits_last_1_month  \\\n",
       "292      0.0                     0.00               9678.138141   \n",
       "70       1.0                 35814.60              27451.000000   \n",
       "57       0.0                 28050.12               9678.138141   \n",
       "391      1.0                     0.00                  0.000000   \n",
       "183      0.0                     0.00                  0.000000   \n",
       "\n",
       "     Balance_of_outstanding_loans_last_1_month  loan_enquiries_last_1_month  \\\n",
       "292                                    1000.00                          0.0   \n",
       "70                                    10881.00                          2.0   \n",
       "57                                     1251.62                          6.0   \n",
       "391                                   11254.00                          3.0   \n",
       "183                                    3040.30                          3.0   \n",
       "\n",
       "     overdue_on_outstanding_loans_last_1_month   age  monthly_salary  \\\n",
       "292                                   0.000000  25.0         10500.0   \n",
       "70                                  474.469047  31.0         15731.0   \n",
       "57                                  139.005874  22.0         16000.0   \n",
       "391                                5085.404428  23.0          9074.0   \n",
       "183                                1373.836421  39.0         23304.0   \n",
       "\n",
       "     number_of_bank_accounts  married_indicator  day_of_application  \\\n",
       "292                      1.0                0.0                 0.0   \n",
       "70                       3.0                0.0                 0.0   \n",
       "57                       3.0                0.0                 0.0   \n",
       "391                      2.0                0.0                 0.0   \n",
       "183                      1.0                0.0                 0.0   \n",
       "\n",
       "     levelofeducation_v1  state  debt_to_credit_ratio  Overdue_ratio  \n",
       "292                  1.0    0.0              0.000000       0.000000  \n",
       "70                   1.0    0.0              1.304674       0.043605  \n",
       "57                   0.0    1.0              2.898297       0.111061  \n",
       "391                  0.0    1.0              0.000000       0.451875  \n",
       "183                  1.0    1.0              0.000000       0.451875  "
      ]
     },
     "execution_count": 60,
     "metadata": {},
     "output_type": "execute_result"
    }
   ],
   "source": [
    "dataset.head()"
   ]
  },
  {
   "cell_type": "code",
   "execution_count": 61,
   "metadata": {},
   "outputs": [],
   "source": [
    "y = dataset['bad_var']\n",
    "dataset.drop(['bad_var'], inplace=True, axis =1)\n",
    "X = dataset"
   ]
  },
  {
   "cell_type": "markdown",
   "metadata": {},
   "source": [
    "## Variable selection"
   ]
  },
  {
   "cell_type": "code",
   "execution_count": 62,
   "metadata": {},
   "outputs": [],
   "source": [
    "#1. Correlation table\n",
    "def heatMap(df):\n",
    "    #Create Correlation df\n",
    "    corr = df.corr()\n",
    "    #Plot figsize\n",
    "    fig, ax = plt.subplots(figsize=(10, 10))\n",
    "    #Generate Color Map\n",
    "    colormap = sqs.diverging_palette(220, 10, as_cmap=True)\n",
    "    #Generate Heat Map, allow annotations and place floats in map\n",
    "    sqs.heatmap(corr, cmap=colormap, annot=True, fmt=\".2f\")\n",
    "    #Apply xticks\n",
    "    plt.xticks(range(len(corr.columns)), corr.columns);\n",
    "    #Apply yticks\n",
    "    plt.yticks(range(len(corr.columns)), corr.columns)\n",
    "    #show plot\n",
    "    plt.show()"
   ]
  },
  {
   "cell_type": "code",
   "execution_count": 63,
   "metadata": {
    "scrolled": true
   },
   "outputs": [
    {
     "data": {
      "image/png": "[encoded data removed]",
      "text/plain": [
       "<Figure size 720x720 with 2 Axes>"
      ]
     },
     "metadata": {
      "needs_background": "light"
     },
     "output_type": "display_data"
    }
   ],
   "source": [
    "heatMap(X)"
   ]
  },
  {
   "cell_type": "markdown",
   "metadata": {},
   "source": [
    "### Removing values with more than 50% correlation sequentially."
   ]
  },
  {
   "cell_type": "code",
   "execution_count": 64,
   "metadata": {},
   "outputs": [],
   "source": [
    "X.drop(['overdue_on_outstanding_loans_last_1_month'], inplace=True, axis =1)"
   ]
  },
  {
   "cell_type": "code",
   "execution_count": 65,
   "metadata": {},
   "outputs": [
    {
     "data": {
      "image/png": "[encoded data removed]",
      "text/plain": [
       "<Figure size 720x720 with 2 Axes>"
      ]
     },
     "metadata": {
      "needs_background": "light"
     },
     "output_type": "display_data"
    }
   ],
   "source": [
    "heatMap(X)"
   ]
  },
  {
   "cell_type": "code",
   "execution_count": 66,
   "metadata": {},
   "outputs": [
    {
     "data": {
      "text/plain": [
       "(array([], dtype=int64), array([], dtype=int64))"
      ]
     },
     "execution_count": 66,
     "metadata": {},
     "output_type": "execute_result"
    }
   ],
   "source": [
    "np.where(np.isinf(X))"
   ]
  },
  {
   "cell_type": "code",
   "execution_count": 67,
   "metadata": {},
   "outputs": [
    {
     "name": "stdout",
     "output_type": "stream",
     "text": [
      "[0.09963648 0.10630407 0.10071679 0.08760344 0.13129698 0.1311568\n",
      " 0.07677133 0.01916463 0.03264162 0.02328862 0.02559315 0.09070621\n",
      " 0.07511986]\n"
     ]
    },
    {
     "data": {
      "image/png": "[encoded data removed]",
      "text/plain": [
       "<Figure size 432x288 with 1 Axes>"
      ]
     },
     "metadata": {
      "needs_background": "light"
     },
     "output_type": "display_data"
    }
   ],
   "source": [
    "#2. Univariate Selection\n",
    "\n",
    "from sklearn.ensemble import ExtraTreesClassifier\n",
    "# fit an Extra Trees model to the data\n",
    "import matplotlib.pyplot as plt\n",
    "model = ExtraTreesClassifier(random_state=0)\n",
    "model.fit(X,y)\n",
    "print(model.feature_importances_) #use inbuilt class feature_importances of tree based classifiers\n",
    "#plot graph of feature importances for better visualization\n",
    "feat_importances = pd.Series(model.feature_importances_, index=X.columns)\n",
    "feat_importances.nlargest(10).plot(kind='barh')\n",
    "plt.show()"
   ]
  },
  {
   "cell_type": "code",
   "execution_count": 68,
   "metadata": {},
   "outputs": [],
   "source": [
    "# Looking at the above bar we can eleminate state\n",
    "X.drop(['day_of_application'], inplace=True, axis=1)"
   ]
  },
  {
   "cell_type": "code",
   "execution_count": 69,
   "metadata": {},
   "outputs": [
    {
     "data": {
      "text/html": [
       "<div>\n",
       "<style scoped>\n",
       "    .dataframe tbody tr th:only-of-type {\n",
       "        vertical-align: middle;\n",
       "    }\n",
       "\n",
       "    .dataframe tbody tr th {\n",
       "        vertical-align: top;\n",
       "    }\n",
       "\n",
       "    .dataframe thead th {\n",
       "        text-align: right;\n",
       "    }\n",
       "</style>\n",
       "<table border=\"1\" class=\"dataframe\">\n",
       "  <thead>\n",
       "    <tr style=\"text-align: right;\">\n",
       "      <th></th>\n",
       "      <th>Net_debits_last_1_month</th>\n",
       "      <th>Net_credits_last_1_month</th>\n",
       "      <th>Balance_of_outstanding_loans_last_1_month</th>\n",
       "      <th>loan_enquiries_last_1_month</th>\n",
       "      <th>age</th>\n",
       "      <th>monthly_salary</th>\n",
       "      <th>number_of_bank_accounts</th>\n",
       "      <th>married_indicator</th>\n",
       "      <th>levelofeducation_v1</th>\n",
       "      <th>state</th>\n",
       "      <th>debt_to_credit_ratio</th>\n",
       "      <th>Overdue_ratio</th>\n",
       "    </tr>\n",
       "  </thead>\n",
       "  <tbody>\n",
       "    <tr>\n",
       "      <td>292</td>\n",
       "      <td>0.00</td>\n",
       "      <td>9678.138141</td>\n",
       "      <td>1000.00</td>\n",
       "      <td>0.0</td>\n",
       "      <td>25.0</td>\n",
       "      <td>10500.0</td>\n",
       "      <td>1.0</td>\n",
       "      <td>0.0</td>\n",
       "      <td>1.0</td>\n",
       "      <td>0.0</td>\n",
       "      <td>0.000000</td>\n",
       "      <td>0.000000</td>\n",
       "    </tr>\n",
       "    <tr>\n",
       "      <td>70</td>\n",
       "      <td>35814.60</td>\n",
       "      <td>27451.000000</td>\n",
       "      <td>10881.00</td>\n",
       "      <td>2.0</td>\n",
       "      <td>31.0</td>\n",
       "      <td>15731.0</td>\n",
       "      <td>3.0</td>\n",
       "      <td>0.0</td>\n",
       "      <td>1.0</td>\n",
       "      <td>0.0</td>\n",
       "      <td>1.304674</td>\n",
       "      <td>0.043605</td>\n",
       "    </tr>\n",
       "    <tr>\n",
       "      <td>57</td>\n",
       "      <td>28050.12</td>\n",
       "      <td>9678.138141</td>\n",
       "      <td>1251.62</td>\n",
       "      <td>6.0</td>\n",
       "      <td>22.0</td>\n",
       "      <td>16000.0</td>\n",
       "      <td>3.0</td>\n",
       "      <td>0.0</td>\n",
       "      <td>0.0</td>\n",
       "      <td>1.0</td>\n",
       "      <td>2.898297</td>\n",
       "      <td>0.111061</td>\n",
       "    </tr>\n",
       "    <tr>\n",
       "      <td>391</td>\n",
       "      <td>0.00</td>\n",
       "      <td>0.000000</td>\n",
       "      <td>11254.00</td>\n",
       "      <td>3.0</td>\n",
       "      <td>23.0</td>\n",
       "      <td>9074.0</td>\n",
       "      <td>2.0</td>\n",
       "      <td>0.0</td>\n",
       "      <td>0.0</td>\n",
       "      <td>1.0</td>\n",
       "      <td>0.000000</td>\n",
       "      <td>0.451875</td>\n",
       "    </tr>\n",
       "    <tr>\n",
       "      <td>183</td>\n",
       "      <td>0.00</td>\n",
       "      <td>0.000000</td>\n",
       "      <td>3040.30</td>\n",
       "      <td>3.0</td>\n",
       "      <td>39.0</td>\n",
       "      <td>23304.0</td>\n",
       "      <td>1.0</td>\n",
       "      <td>0.0</td>\n",
       "      <td>1.0</td>\n",
       "      <td>1.0</td>\n",
       "      <td>0.000000</td>\n",
       "      <td>0.451875</td>\n",
       "    </tr>\n",
       "  </tbody>\n",
       "</table>\n",
       "</div>"
      ],
      "text/plain": [
       "     Net_debits_last_1_month  Net_credits_last_1_month  \\\n",
       "292                     0.00               9678.138141   \n",
       "70                  35814.60              27451.000000   \n",
       "57                  28050.12               9678.138141   \n",
       "391                     0.00                  0.000000   \n",
       "183                     0.00                  0.000000   \n",
       "\n",
       "     Balance_of_outstanding_loans_last_1_month  loan_enquiries_last_1_month  \\\n",
       "292                                    1000.00                          0.0   \n",
       "70                                    10881.00                          2.0   \n",
       "57                                     1251.62                          6.0   \n",
       "391                                   11254.00                          3.0   \n",
       "183                                    3040.30                          3.0   \n",
       "\n",
       "      age  monthly_salary  number_of_bank_accounts  married_indicator  \\\n",
       "292  25.0         10500.0                      1.0                0.0   \n",
       "70   31.0         15731.0                      3.0                0.0   \n",
       "57   22.0         16000.0                      3.0                0.0   \n",
       "391  23.0          9074.0                      2.0                0.0   \n",
       "183  39.0         23304.0                      1.0                0.0   \n",
       "\n",
       "     levelofeducation_v1  state  debt_to_credit_ratio  Overdue_ratio  \n",
       "292                  1.0    0.0              0.000000       0.000000  \n",
       "70                   1.0    0.0              1.304674       0.043605  \n",
       "57                   0.0    1.0              2.898297       0.111061  \n",
       "391                  0.0    1.0              0.000000       0.451875  \n",
       "183                  1.0    1.0              0.000000       0.451875  "
      ]
     },
     "execution_count": 69,
     "metadata": {},
     "output_type": "execute_result"
    }
   ],
   "source": [
    "X.head()"
   ]
  },
  {
   "cell_type": "markdown",
   "metadata": {},
   "source": [
    "### Generating models to predict bad_var"
   ]
  },
  {
   "cell_type": "markdown",
   "metadata": {},
   "source": [
    "#### Many classifiers can used to predict the bad_var :\n",
    "\n",
    "    1. Logistic Regression\n",
    "    2. Naive Bayes\n",
    "    3. Decision Tree Classifier\n",
    "    4. Support Vector Classifier\n",
    "    5. Random Forest Classifier\n",
    "    6. Gradient Boosting Classifier\n",
    "    7. XG Boosting Classifier etc..\n",
    "\n",
    "#### Currently, I will we focusing on three of them for now i.e. Logistic Regression, Naive Bayes, Random Forest Classifier and Extreme Gradient Boosting Classifier."
   ]
  },
  {
   "cell_type": "code",
   "execution_count": 70,
   "metadata": {},
   "outputs": [],
   "source": [
    "# Splitting the dataset into the Training set and Test set\n",
    "from sklearn.model_selection import train_test_split\n",
    "X_train, X_test, y_train, y_test = train_test_split(X, y, test_size = 0.20, random_state = 0)"
   ]
  },
  {
   "cell_type": "markdown",
   "metadata": {},
   "source": [
    "#### Standardizing the variables"
   ]
  },
  {
   "cell_type": "code",
   "execution_count": 71,
   "metadata": {},
   "outputs": [],
   "source": [
    "# Feature Scaling\n",
    "from sklearn.preprocessing import StandardScaler\n",
    "sc = StandardScaler()\n",
    "X_train = sc.fit_transform(X_train)\n",
    "X_test = sc.transform(X_test)"
   ]
  },
  {
   "cell_type": "markdown",
   "metadata": {},
   "source": [
    "##### 1. Naive Bayes"
   ]
  },
  {
   "cell_type": "code",
   "execution_count": 72,
   "metadata": {},
   "outputs": [],
   "source": [
    "# Fitting Naive Bayes to the Training set\n",
    "from sklearn.naive_bayes import GaussianNB\n",
    "classifier_nb = GaussianNB()\n",
    "classifier_nb.fit(X_train, y_train)\n",
    "\n",
    "# Predicting the Test set results\n",
    "y_pred_nb = classifier_nb.predict(X_test)"
   ]
  },
  {
   "cell_type": "markdown",
   "metadata": {},
   "source": [
    "##### 2. Logistic Regression"
   ]
  },
  {
   "cell_type": "code",
   "execution_count": 73,
   "metadata": {},
   "outputs": [],
   "source": [
    "from sklearn.linear_model import LogisticRegression\n",
    "classifier_lr = LogisticRegression(random_state=0)\n",
    "classifier_lr.fit(X_train, y_train)\n",
    "\n",
    "# Predicting the Test set results\n",
    "y_pred_lr = classifier_lr.predict(X_test)"
   ]
  },
  {
   "cell_type": "markdown",
   "metadata": {},
   "source": [
    "###### 3. Random Forest Classifier"
   ]
  },
  {
   "cell_type": "code",
   "execution_count": 74,
   "metadata": {},
   "outputs": [],
   "source": [
    "from sklearn.ensemble import RandomForestClassifier\n",
    "classifier_rf = RandomForestClassifier(n_estimators=100, random_state=0)\n",
    "classifier_rf.fit(X_train, y_train)\n",
    "\n",
    "# Predicting the Test set results\n",
    "y_pred_rf = classifier_rf.predict(X_test)"
   ]
  },
  {
   "cell_type": "markdown",
   "metadata": {},
   "source": [
    "##### 4. XGBoost Classifier"
   ]
  },
  {
   "cell_type": "code",
   "execution_count": 75,
   "metadata": {},
   "outputs": [],
   "source": [
    "import xgboost as xgb\n",
    "classifier_xgb = xgb.XGBClassifier(objective ='binary:logistic', colsample_bytree = 0.3, learning_rate = 0.1,\n",
    "                max_depth = 5, alpha = 10, n_estimators = 100, random_state=0)\n",
    "classifier_xgb.fit(X_train,y_train)\n",
    "\n",
    "y_pred_xgb = classifier_xgb.predict(X_test)"
   ]
  },
  {
   "cell_type": "markdown",
   "metadata": {},
   "source": [
    "### Evaluating"
   ]
  },
  {
   "cell_type": "code",
   "execution_count": 76,
   "metadata": {},
   "outputs": [],
   "source": [
    "from sklearn.metrics import confusion_matrix, recall_score, precision_score, f1_score, precision_recall_curve,roc_auc_score"
   ]
  },
  {
   "cell_type": "markdown",
   "metadata": {},
   "source": [
    "##### Naive bayes Score"
   ]
  },
  {
   "cell_type": "code",
   "execution_count": 77,
   "metadata": {},
   "outputs": [
    {
     "data": {
      "text/plain": [
       "array([[ 5, 29],\n",
       "       [13, 43]])"
      ]
     },
     "execution_count": 77,
     "metadata": {},
     "output_type": "execute_result"
    }
   ],
   "source": [
    "confusion_matrix(y_test, y_pred_nb)"
   ]
  },
  {
   "cell_type": "code",
   "execution_count": 78,
   "metadata": {},
   "outputs": [
    {
     "data": {
      "text/plain": [
       "0.7678571428571429"
      ]
     },
     "execution_count": 78,
     "metadata": {},
     "output_type": "execute_result"
    }
   ],
   "source": [
    "recall_score(y_test, y_pred_nb)"
   ]
  },
  {
   "cell_type": "code",
   "execution_count": 79,
   "metadata": {},
   "outputs": [
    {
     "data": {
      "text/plain": [
       "0.5972222222222222"
      ]
     },
     "execution_count": 79,
     "metadata": {},
     "output_type": "execute_result"
    }
   ],
   "source": [
    "precision_score(y_test, y_pred_nb)"
   ]
  },
  {
   "cell_type": "code",
   "execution_count": 80,
   "metadata": {},
   "outputs": [
    {
     "data": {
      "text/plain": [
       "0.671875"
      ]
     },
     "execution_count": 80,
     "metadata": {},
     "output_type": "execute_result"
    }
   ],
   "source": [
    "f1_score(y_test, y_pred_nb)"
   ]
  },
  {
   "cell_type": "code",
   "execution_count": 81,
   "metadata": {},
   "outputs": [
    {
     "data": {
      "text/plain": [
       "0.45745798319327735"
      ]
     },
     "execution_count": 81,
     "metadata": {},
     "output_type": "execute_result"
    }
   ],
   "source": [
    "roc_auc_score(y_test, y_pred_nb)"
   ]
  },
  {
   "cell_type": "markdown",
   "metadata": {},
   "source": [
    "##### Logistic Regression Score"
   ]
  },
  {
   "cell_type": "code",
   "execution_count": 82,
   "metadata": {},
   "outputs": [
    {
     "data": {
      "text/plain": [
       "array([[23, 11],\n",
       "       [31, 25]])"
      ]
     },
     "execution_count": 82,
     "metadata": {},
     "output_type": "execute_result"
    }
   ],
   "source": [
    "confusion_matrix(y_test, y_pred_lr)"
   ]
  },
  {
   "cell_type": "code",
   "execution_count": 83,
   "metadata": {},
   "outputs": [
    {
     "data": {
      "text/plain": [
       "0.44642857142857145"
      ]
     },
     "execution_count": 83,
     "metadata": {},
     "output_type": "execute_result"
    }
   ],
   "source": [
    "recall_score(y_test, y_pred_lr)"
   ]
  },
  {
   "cell_type": "code",
   "execution_count": 84,
   "metadata": {},
   "outputs": [
    {
     "data": {
      "text/plain": [
       "0.6944444444444444"
      ]
     },
     "execution_count": 84,
     "metadata": {},
     "output_type": "execute_result"
    }
   ],
   "source": [
    "precision_score(y_test, y_pred_lr)"
   ]
  },
  {
   "cell_type": "code",
   "execution_count": 85,
   "metadata": {},
   "outputs": [
    {
     "data": {
      "text/plain": [
       "0.5434782608695653"
      ]
     },
     "execution_count": 85,
     "metadata": {},
     "output_type": "execute_result"
    }
   ],
   "source": [
    "f1_score(y_test, y_pred_lr)"
   ]
  },
  {
   "cell_type": "code",
   "execution_count": 86,
   "metadata": {},
   "outputs": [
    {
     "data": {
      "text/plain": [
       "0.5614495798319328"
      ]
     },
     "execution_count": 86,
     "metadata": {},
     "output_type": "execute_result"
    }
   ],
   "source": [
    "roc_auc_score(y_test, y_pred_lr)"
   ]
  },
  {
   "cell_type": "markdown",
   "metadata": {},
   "source": [
    "##### Random Forest Classifier Score"
   ]
  },
  {
   "cell_type": "code",
   "execution_count": 87,
   "metadata": {},
   "outputs": [
    {
     "data": {
      "text/plain": [
       "array([[19, 15],\n",
       "       [28, 28]])"
      ]
     },
     "execution_count": 87,
     "metadata": {},
     "output_type": "execute_result"
    }
   ],
   "source": [
    "confusion_matrix(y_test, y_pred_rf)"
   ]
  },
  {
   "cell_type": "code",
   "execution_count": 88,
   "metadata": {},
   "outputs": [
    {
     "data": {
      "text/plain": [
       "0.5"
      ]
     },
     "execution_count": 88,
     "metadata": {},
     "output_type": "execute_result"
    }
   ],
   "source": [
    "recall_score(y_test, y_pred_rf)"
   ]
  },
  {
   "cell_type": "code",
   "execution_count": 89,
   "metadata": {},
   "outputs": [
    {
     "data": {
      "text/plain": [
       "0.6511627906976745"
      ]
     },
     "execution_count": 89,
     "metadata": {},
     "output_type": "execute_result"
    }
   ],
   "source": [
    "precision_score(y_test, y_pred_rf)"
   ]
  },
  {
   "cell_type": "code",
   "execution_count": 90,
   "metadata": {
    "scrolled": true
   },
   "outputs": [
    {
     "data": {
      "text/plain": [
       "0.5656565656565656"
      ]
     },
     "execution_count": 90,
     "metadata": {},
     "output_type": "execute_result"
    }
   ],
   "source": [
    "f1_score(y_test, y_pred_rf)"
   ]
  },
  {
   "cell_type": "code",
   "execution_count": 91,
   "metadata": {},
   "outputs": [
    {
     "data": {
      "text/plain": [
       "0.5294117647058824"
      ]
     },
     "execution_count": 91,
     "metadata": {},
     "output_type": "execute_result"
    }
   ],
   "source": [
    "roc_auc_score(y_test, y_pred_rf)"
   ]
  },
  {
   "cell_type": "markdown",
   "metadata": {},
   "source": [
    "##### XGBoost Classifier Score"
   ]
  },
  {
   "cell_type": "code",
   "execution_count": 92,
   "metadata": {},
   "outputs": [
    {
     "data": {
      "text/plain": [
       "array([[17, 17],\n",
       "       [33, 23]])"
      ]
     },
     "execution_count": 92,
     "metadata": {},
     "output_type": "execute_result"
    }
   ],
   "source": [
    "confusion_matrix(y_test, y_pred_xgb)"
   ]
  },
  {
   "cell_type": "code",
   "execution_count": 93,
   "metadata": {},
   "outputs": [
    {
     "data": {
      "text/plain": [
       "0.4107142857142857"
      ]
     },
     "execution_count": 93,
     "metadata": {},
     "output_type": "execute_result"
    }
   ],
   "source": [
    "recall_score(y_test, y_pred_xgb)"
   ]
  },
  {
   "cell_type": "code",
   "execution_count": 94,
   "metadata": {},
   "outputs": [
    {
     "data": {
      "text/plain": [
       "0.575"
      ]
     },
     "execution_count": 94,
     "metadata": {},
     "output_type": "execute_result"
    }
   ],
   "source": [
    "precision_score(y_test, y_pred_xgb)"
   ]
  },
  {
   "cell_type": "code",
   "execution_count": 95,
   "metadata": {},
   "outputs": [
    {
     "data": {
      "text/plain": [
       "0.47916666666666663"
      ]
     },
     "execution_count": 95,
     "metadata": {},
     "output_type": "execute_result"
    }
   ],
   "source": [
    "f1_score(y_test, y_pred_xgb)"
   ]
  },
  {
   "cell_type": "code",
   "execution_count": 96,
   "metadata": {},
   "outputs": [
    {
     "data": {
      "text/plain": [
       "0.4553571428571428"
      ]
     },
     "execution_count": 96,
     "metadata": {},
     "output_type": "execute_result"
    }
   ],
   "source": [
    "roc_auc_score(y_test, y_pred_xgb)"
   ]
  }
 ],
 "metadata": {
  "kernelspec": {
   "display_name": "Python 3",
   "language": "python",
   "name": "python3"
  },
  "language_info": {
   "codemirror_mode": {
    "name": "ipython",
    "version": 3
   },
   "file_extension": ".py",
   "mimetype": "text/x-python",
   "name": "python",
   "nbconvert_exporter": "python",
   "pygments_lexer": "ipython3",
   "version": "3.7.4"
  }
 },
 "nbformat": 4,
 "nbformat_minor": 2
}
